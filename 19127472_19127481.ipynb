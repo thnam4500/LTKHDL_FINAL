{
 "cells": [
  {
   "cell_type": "markdown",
   "id": "9092bd26-534d-4120-a98e-3d47e9f05507",
   "metadata": {},
   "source": [
    "# ĐỒ ÁN CUỐI KỲ LẬP TRÌNH CHO KHOA HỌC DỮ LIỆU\n",
    "## THÀNH VIÊN\n",
    "|MÃ SỐ|HỌ TÊN|\n",
    "|:----:|:---:|\n",
    "|19127472|NGUYỄN BÁ MINH|\n",
    "|19127481|TRẦN HOÀNG NAM|"
   ]
  },
  {
   "cell_type": "code",
   "execution_count": null,
   "id": "c59ead62-24b2-4cd5-8818-2df202fef9c2",
   "metadata": {},
   "outputs": [],
   "source": [
    "import numpy as np\n",
    "import pandas as pd\n",
    "import matplotlib.pyplot as plt\n",
    "import re"
   ]
  },
  {
   "cell_type": "markdown",
   "id": "a9e504cb-2bb0-4704-bca4-d0ab996aa56c",
   "metadata": {},
   "source": [
    "## GIỚI THIỆU ĐỒ ÁN\n",
    "**Đề tài đồ án**: Tìm hiểu và phân tích những yếu tố trong 10 phút đầu của 1 trận đấu liên minh huyền thoại có ảnh hưởng như thế nào đến kết quả trận đấu\n",
    "- Dữ liệu các trận đấu được lấy ở [link này](https://www.kaggle.com/bobbyscience/league-of-legends-diamond-ranked-games-10-min)\n",
    "- Dữ liệu gồm 1 file duy nhất là data.csv\n",
    "- Dữ liệu chứa thông tin của khoảng 10.000 trận đấu ở rank kim cương - cao thủ trong khoảng 10 phút đầu game\n",
    "- Dữ liệu 1 dòng là thông tin của đội xanh và đội đỏ, mỗi đội sẽ có 19 cột chứa thông tin, tổng có 38 cột và 1 cột bluewin là cột kết quả trận đấu, 1 cột id là id của trận đấu, id này có thể dùng để lấy thêm thông tin từ API của riot game, vậy có tất cả 40 cột\n",
    "\n",
    "### Đọc dữ liệu từ file data.csv và khám phá dữ liệu"
   ]
  },
  {
   "cell_type": "code",
   "execution_count": null,
   "id": "a3fd08f5-0049-4566-8dab-5e6901ce51b4",
   "metadata": {},
   "outputs": [],
   "source": [
    "data_df = pd.read_csv('data.csv')\n",
    "data_df.head()"
   ]
  },
  {
   "cell_type": "code",
   "execution_count": null,
   "id": "8053b9b1-1382-4fa9-86a6-87f1deee1a93",
   "metadata": {},
   "outputs": [],
   "source": [
    "data_df.info()"
   ]
  },
  {
   "cell_type": "code",
   "execution_count": null,
   "id": "2e5d9b9e-9ce4-4939-a003-baf17f890306",
   "metadata": {},
   "outputs": [],
   "source": [
    "data_df.shape"
   ]
  },
  {
   "cell_type": "markdown",
   "id": "02c5a39d-4d84-4f96-8fce-93e0ac99b5fe",
   "metadata": {},
   "source": [
    "#### Dữ liệu có bao nhiêu dòng, cột, có cột nào có dữ liệu thiếu không, có vấn đề gì với các cột không\n",
    "- Ta thấy rằng có chính xác 40 cột và 9.879 dòng, tức là khoảng 10.000 dòng như mô tả.\n",
    "- Xem xét sơ các cột, ta thấy rằng không có dữ liệu thiếu, không có vấn đề gì cả."
   ]
  },
  {
   "cell_type": "markdown",
   "id": "63a9a6e3-2f4e-4dce-ad2c-e93b85f2c111",
   "metadata": {},
   "source": [
    "#### Dữ liệu có bị lặp hay không"
   ]
  },
  {
   "cell_type": "code",
   "execution_count": null,
   "id": "66bc01b1-9f56-4a02-b783-001c7dd5790e",
   "metadata": {},
   "outputs": [],
   "source": [
    "np.any(data_df.duplicated())"
   ]
  },
  {
   "cell_type": "markdown",
   "id": "bdf515c2-c6cf-47fa-ac33-f68e369ef53a",
   "metadata": {},
   "source": [
    "### TÌM HIỂU VÀ PHÂN TÍCH"
   ]
  },
  {
   "cell_type": "markdown",
   "id": "0f06019c-cf35-47fa-9d25-60556b35e48d",
   "metadata": {},
   "source": [
    "#### NGUYỄN BÁ MINH"
   ]
  },
  {
   "cell_type": "code",
   "execution_count": null,
   "id": "9d14ff66-131a-4821-979c-136a574e47ae",
   "metadata": {},
   "outputs": [],
   "source": []
  },
  {
   "cell_type": "markdown",
   "id": "11c54c00",
   "metadata": {},
   "source": [
    "Cần tập trung yếu tố trong 10 phút đầu game để giành được chiến thắng"
   ]
  },
  {
   "cell_type": "markdown",
   "id": "88d229be",
   "metadata": {},
   "source": [
    "Đầu tiên dễ nhìn thấy nhất là ta sẽ xem thử là lựa chọn màu đội có ảnh hưởng đến tỉ lệ thắng hay không(Trong game thì việc ở đội xanh hay đội đỏ sẽ ảnh hưởng đến việc được cấm chọn trước hay sau)"
   ]
  },
  {
   "cell_type": "code",
   "execution_count": null,
   "id": "4f8bea78",
   "metadata": {},
   "outputs": [],
   "source": [
    "blue = data_df['blueWins']\n",
    "# blue = 1 là thể hiện đội xanh thắng, blue = 0 là đội đỏ thắng\n",
    "games_count = data_df.shape[0]"
   ]
  },
  {
   "cell_type": "code",
   "execution_count": null,
   "id": "58837d21",
   "metadata": {},
   "outputs": [],
   "source": [
    "blue_win_rate = (len(data_df[blue == 1])/games_count) * 100\n",
    "y = [round(blue_win_rate,3),100-round(blue_win_rate,3)]\n",
    "x = ['Blue', 'Red']\n",
    "\n",
    "\n",
    "bars = plt.bar(x, height=y, width=.4)\n",
    "\n",
    "plt.xlabel('Team Color')\n",
    "plt.ylabel('Win Rate')\n",
    "\n",
    "for bar in bars:\n",
    "    yval = bar.get_height()\n",
    "    plt.text(bar.get_x()+0.1, yval + 0.5, f\"{yval}%\")\n",
    "\n",
    "plt.show()"
   ]
  },
  {
   "cell_type": "markdown",
   "id": "cd2e3626",
   "metadata": {},
   "source": [
    "Vậy có thể thấy là việc ở team màu nào không ảnh hưởng nhiều đến chiến thắng chung cuộc. "
   ]
  },
  {
   "cell_type": "markdown",
   "id": "b684cfdc",
   "metadata": {},
   "source": [
    "Tiếp đến ta sẽ đi vào những chỉ số cơ bản nhất của trò chơi đó là số mạng hạ gục, lượng vàng, lượng kinh nghiệm. Ta sẽ tìm hiểu xem sự chênh lệch những yếu tố này trong 10 phút đầu của trận đấu có ảnh hưởng nhiều đến tỉ lệ chiến thắng hay không"
   ]
  },
  {
   "cell_type": "code",
   "execution_count": null,
   "id": "fb362431",
   "metadata": {},
   "outputs": [],
   "source": [
    "blue_win_kill = (data_df[blue==1]['blueKills'] - data_df[blue==1]['redKills']) >0\n",
    "red_win_kill = (data_df[blue==0]['redKills'] - data_df[blue==0]['blueKills']) >0\n",
    "kill = (blue_win_kill .value_counts()[True] +red_win_kill.value_counts()[True])/games_count\n",
    "blue_win_exp_diff = (data_df[blue==1]['blueExperienceDiff']) >0\n",
    "red_win_exp_diff = (data_df[blue==0]['redExperienceDiff']) >0\n",
    "ExpDiff = (blue_win_exp_diff.value_counts()[True] + red_win_exp_diff.value_counts()[True])/games_count\n",
    "blue_win_gold_diff = (data_df[blue==1]['blueGoldDiff']) >0\n",
    "red_win_gold_diff = (data_df[blue==0]['redGoldDiff']) >0\n",
    "GoldDiff = (blue_win_gold_diff.value_counts()[True] + red_win_gold_diff.value_counts()[True])/games_count\n",
    "blue_win_first_blood = data_df[blue==1]['blueFirstBlood'].value_counts()[1]\n",
    "red_win_first_blood = data_df[blue==0]['redFirstBlood'].value_counts()[1]\n",
    "first_blood = (blue_win_first_blood + red_win_first_blood)/games_count *100\n",
    "\n",
    "x = ['First Blood', 'Kill', 'Experience', 'Gold']\n",
    "y = [round(first_blood,3), round(kill*100,3),round(ExpDiff*100,3), round(GoldDiff*100,3)]\n",
    "bars = plt.bar(x, height=y, width=.5, color='darkcyan')\n",
    "\n",
    "\n",
    "plt.ylabel('Win Rate')\n",
    "plt.title('So sánh tỉ lệ thắng khi hơn vàng, kinh nghiệm, mạng tiêu diệt')\n",
    "for bar in bars:\n",
    "    yval = bar.get_height()\n",
    "    plt.text(bar.get_x()+0.01, yval+0.5, f\"{yval}%\")\n",
    "\n",
    "plt.show()"
   ]
  },
  {
   "cell_type": "markdown",
   "id": "e0c8da44",
   "metadata": {},
   "source": [
    "Nhận xét: Có thể thấy cả 4 yếu tố đều ảnh hưởng đến tỉ lệ thắng nhưng tỉ lệ Experience và Gold khá vượt trội so với Kill và First Blood. Vậy có thể thấy là trong 10 phút đầu tiên thì việc có được First Blood(mạng hạ gục đầu tiên trong trận đấu) hay chênh lệch Kill có ảnh hưởng đến tỉ lệ thắng nhưng tầm quan trọng của chúng không bằng so với Experience và Gold vì vậy Experience và Gold là 2 yếu tố nên được ưu tiên hơn trong 10 phút đầu của trận đấu."
   ]
  },
  {
   "cell_type": "markdown",
   "id": "c6762cf2",
   "metadata": {},
   "source": [
    "Tiếp đến sẽ là những yếu tố ít được tập trung vào hơn khi nhắc đến 1 trò chơi."
   ]
  },
  {
   "cell_type": "code",
   "execution_count": null,
   "id": "a74429fd",
   "metadata": {},
   "outputs": [],
   "source": [
    "blue_win_ward_placed = (data_df[blue==1]['blueWardsPlaced'] - data_df[blue==1]['redWardsPlaced']) > 0\n",
    "red_win_ward_placed = (data_df[blue==0]['redWardsPlaced'] - data_df[blue==0]['blueWardsPlaced']) > 0\n",
    "ward_placed = (red_win_ward_placed.value_counts()[True] + blue_win_ward_placed.value_counts()[True])/games_count\n",
    "\n",
    "blue_win_ward_destroyed = (data_df[blue==1]['blueWardsDestroyed'] - data_df[blue==1]['redWardsDestroyed']) > 0\n",
    "red_win_ward_destroyed = (data_df[blue==0]['redWardsDestroyed'] - data_df[blue==0]['blueWardsDestroyed']) > 0\n",
    "ward_destroyed = (red_win_ward_destroyed.value_counts()[True] + blue_win_ward_destroyed.value_counts()[True])/games_count\n",
    "\n",
    "blue_win_CSPerMin = (data_df[blue==1]['blueCSPerMin'] - data_df[blue==1]['redCSPerMin']) > 0\n",
    "red_win_CSPerMin = (data_df[blue==0]['redCSPerMin'] - data_df[blue==0]['blueCSPerMin']) > 0\n",
    "CSPerMin = (red_win_CSPerMin.value_counts()[True] + blue_win_CSPerMin.value_counts()[True])/games_count\n",
    "\n",
    "blue_win_TotalJungleMinionsKilled = (data_df[blue==1]['blueTotalJungleMinionsKilled'] - data_df[blue==1]['redTotalJungleMinionsKilled']) > 0\n",
    "red_win_TotalJungleMinionsKilled = (data_df[blue==0]['redTotalJungleMinionsKilled'] - data_df[blue==0]['blueTotalJungleMinionsKilled']) > 0\n",
    "TotalJungleMinionsKilled = (red_win_TotalJungleMinionsKilled.value_counts()[True] + blue_win_TotalJungleMinionsKilled.value_counts()[True])/games_count\n",
    "\n",
    "x = ['Ward Placed', 'Ward Destroyed', 'CSPerMin', 'Jungle Minions']\n",
    "y = [round(ward_placed*100,3), round(ward_destroyed*100,3),round(CSPerMin*100,3), round(TotalJungleMinionsKilled*100,3)]\n",
    "bars = plt.bar(x, height=y, width=.5, color='green')\n",
    "\n",
    "\n",
    "plt.ylabel('Win Rate')\n",
    "plt.title('Tỉ lệ thắng khi chênh lệch các yếu tố: Số mắt cắm, số mắt phá hủy, lính theo phút, quái rừng')\n",
    "for bar in bars:\n",
    "    yval = bar.get_height()\n",
    "    plt.text(bar.get_x()+0.01, yval+0.5, f\"{yval}%\")\n",
    "\n"
   ]
  },
  {
   "cell_type": "markdown",
   "id": "1346a8ec",
   "metadata": {},
   "source": [
    "Có thể thấy là chỉ số CSPerMin và JungleMinions rất quan trọng và có ảnh hưởng nhiều đến trận đấu, chỉ số WardPlaced và WardDestroyed có ảnh hưởng nhưng có lẽ là trong 10 phút đầu của trận đấu nên ưu tiên các chỉ số kia hơn"
   ]
  },
  {
   "cell_type": "code",
   "execution_count": null,
   "id": "41097dd2",
   "metadata": {},
   "outputs": [],
   "source": [
    "blue_win_dragon = (data_df[blue==1]['blueDragons'] - data_df[blue==1]['redDragons']) > 0\n",
    "red_win_dragon = (data_df[blue==0]['redDragons'] - data_df[blue==0]['blueDragons']) > 0\n",
    "red_dragon = red_win_dragon.value_counts()[True]/games_count\n",
    "blue_dragon = blue_win_dragon.value_counts()[True]/games_count\n",
    "\n",
    "blue_win_herald = (data_df[blue==1]['blueHeralds'] - data_df[blue==1]['redHeralds']) > 0\n",
    "red_win_herald = (data_df[blue==0]['redHeralds'] - data_df[blue==0]['blueHeralds']) > 0\n",
    "red_herald = red_win_herald.value_counts()[True]/games_count\n",
    "blue_herald = blue_win_herald.value_counts()[True]/games_count\n",
    "\n",
    "red_stat = [round(red_dragon*100,3), round(red_herald*100,3)]\n",
    "blue_stat = [round(blue_dragon*100,3), round(blue_herald*100,3)]\n",
    "x = ['Dragon', 'Herald']\n",
    "xpos = np.arange(2)\n",
    "plt.xticks(xpos, x)\n",
    "bars1 = plt.bar(xpos+.2, red_stat, color='firebrick', width=.4, label=\"red\")\n",
    "for bar in bars1:\n",
    "    yval = bar.get_height()\n",
    "    plt.text(bar.get_x()+0.07, yval+0.25, f\"{yval}%\")\n",
    "bars2 = plt.bar(xpos-.2, blue_stat, color='mediumblue', width=.4, label=\"blue\")\n",
    "for bar in bars2:\n",
    "    yval = bar.get_height()\n",
    "    plt.text(bar.get_x()+0.07, yval+0.5, f\"{yval}%\")\n",
    "plt.legend()\n",
    "plt.title(\"Tỉ lệ thắng khi chênh lệch Dragon và Herald ở đội xanh và đội đỏ\")\n",
    "plt.show()"
   ]
  },
  {
   "cell_type": "markdown",
   "id": "614b16c8",
   "metadata": {},
   "source": [
    "Có 2 chỉ số khá thú vị và chênh lệch khá rõ là chỉ số Dragon và Herald và từ đó có thể thấy là khi ở đội đỏ nên ưu tiên tiêu diệt Dragon còn ở đội xanh thì tiêu diệt Herald (Có lẽ là do vị trí của Dragon và Herald trên bản đồ tác động đến việc lựa chọn tiêu diệt mục tiêu nào)"
   ]
  },
  {
   "cell_type": "code",
   "execution_count": null,
   "id": "e3266923",
   "metadata": {},
   "outputs": [],
   "source": [
    "categories = ['First Blood', 'Kill', 'Experience', 'Gold', 'Ward Placed', 'Ward Destroyed', 'CSPerMin', 'Jungle Minions', 'First Blood']\n",
    "vehicle = [round(first_blood,3), round(kill*100,3),round(ExpDiff*100,3), round(GoldDiff*100,3), round(ward_placed*100,3), round(ward_destroyed*100,3),round(CSPerMin*100,3), round(TotalJungleMinionsKilled*100,3), round(first_blood,3)]\n",
    "placement = np.linspace(start=0, stop=2*np.pi, num=len(vehicle))\n",
    "plt.figure(figsize=(6,6))\n",
    "plt.subplot(polar=True)\n",
    "plt.plot(placement, vehicle)\n",
    "lines, labels = plt.thetagrids(np.degrees(placement), labels=categories)\n",
    "plt.ylim([0,100])\n",
    "plt.title(\"So sánh tầm quan trọng của các yếu tố ảnh hưởng đến chiến thắngkhi có được sự chênh lệch trong 10 phút đầu trận đấu\")\n",
    "plt.show()"
   ]
  },
  {
   "cell_type": "markdown",
   "id": "61a7bbbf",
   "metadata": {},
   "source": [
    "Kết luận: Vậy dựa vào các phân tích trên có thể trả lời câu hỏi đặt ra ban đầu là các yếu tố cần phải tập trung nhiều hơn trong 10 phút đầu để giành chiến thắng trong 1 trận đấu liên minh huyền thoại là Kill, Experience và Gold. \n",
    "Tất nhiên tất cả yếu tố trên đều quan trọng và không nên chỉ tập trung vào 3 yếu tố đó mà bỏ quên những yếu tố khác."
   ]
  },
  {
   "cell_type": "markdown",
   "id": "b2a32611-a9a1-408a-bd28-73749dc3724a",
   "metadata": {},
   "source": [
    "#### TRẦN HOÀNG NAM"
   ]
  },
  {
   "cell_type": "code",
   "execution_count": null,
   "id": "371b249a-a77a-4e2c-8dc8-4b9f443a2653",
   "metadata": {},
   "outputs": [],
   "source": []
  }
 ],
 "metadata": {
  "kernelspec": {
   "display_name": "Python 3 (ipykernel)",
   "language": "python",
   "name": "python3"
  },
  "language_info": {
   "codemirror_mode": {
    "name": "ipython",
    "version": 3
   },
   "file_extension": ".py",
   "mimetype": "text/x-python",
   "name": "python",
   "nbconvert_exporter": "python",
   "pygments_lexer": "ipython3",
   "version": "3.8.8"
  }
 },
 "nbformat": 4,
 "nbformat_minor": 5
}
