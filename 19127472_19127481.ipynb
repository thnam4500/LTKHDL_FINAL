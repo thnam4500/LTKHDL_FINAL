{
 "cells": [
  {
   "cell_type": "markdown",
   "id": "9092bd26-534d-4120-a98e-3d47e9f05507",
   "metadata": {},
   "source": [
    "# [GITHUB](https://github.com/thnam4500/LTKHDL_FINAL)\n",
    "# ĐỒ ÁN CUỐI KỲ LẬP TRÌNH CHO KHOA HỌC DỮ LIỆU\n",
    "## THÀNH VIÊN NHÓM 16\n",
    "|MÃ SỐ|HỌ TÊN|\n",
    "|:----:|:---:|\n",
    "|19127472|NGUYỄN BÁ MINH|\n",
    "|19127481|TRẦN HOÀNG NAM|"
   ]
  },
  {
   "cell_type": "code",
   "execution_count": 1,
   "id": "c59ead62-24b2-4cd5-8818-2df202fef9c2",
   "metadata": {},
   "outputs": [],
   "source": [
    "import numpy as np\n",
    "import pandas as pd\n",
    "import matplotlib.pyplot as plt\n",
    "import re"
   ]
  },
  {
   "cell_type": "markdown",
   "id": "a9e504cb-2bb0-4704-bca4-d0ab996aa56c",
   "metadata": {},
   "source": [
    "## ĐỒ ÁN\n",
    "**Đề tài đồ án**: Tìm hiểu và phân tích những yếu tố trong 10 phút đầu của 1 trận đấu liên minh huyền thoại có ảnh hưởng như thế nào đến kết quả trận đấu\n",
    "- Dữ liệu các trận đấu được lấy ở [link này](https://www.kaggle.com/bobbyscience/league-of-legends-diamond-ranked-games-10-min)\n",
    "- Dữ liệu có License CC0: Public Domain\n",
    "- Dữ liệu gồm 1 file duy nhất là data.csv\n",
    "- Dữ liệu chứa thông tin của khoảng 10.000 trận đấu ở rank kim cương - cao thủ trong khoảng 10 phút đầu game\n",
    "- Dữ liệu 1 dòng là thông tin của đội xanh và đội đỏ, mỗi đội sẽ có 19 cột chứa thông tin, tổng có 38 cột và 1 cột bluewin là cột kết quả trận đấu, 1 cột id là id của trận đấu, vậy có tất cả 40 cột\n",
    "\n",
    "### Đọc dữ liệu từ file data.csv và khám phá dữ liệu"
   ]
  },
  {
   "cell_type": "code",
   "execution_count": 2,
   "id": "a3fd08f5-0049-4566-8dab-5e6901ce51b4",
   "metadata": {},
   "outputs": [
    {
     "data": {
      "text/html": [
       "<div>\n",
       "<style scoped>\n",
       "    .dataframe tbody tr th:only-of-type {\n",
       "        vertical-align: middle;\n",
       "    }\n",
       "\n",
       "    .dataframe tbody tr th {\n",
       "        vertical-align: top;\n",
       "    }\n",
       "\n",
       "    .dataframe thead th {\n",
       "        text-align: right;\n",
       "    }\n",
       "</style>\n",
       "<table border=\"1\" class=\"dataframe\">\n",
       "  <thead>\n",
       "    <tr style=\"text-align: right;\">\n",
       "      <th></th>\n",
       "      <th>gameId</th>\n",
       "      <th>blueWins</th>\n",
       "      <th>blueWardsPlaced</th>\n",
       "      <th>blueWardsDestroyed</th>\n",
       "      <th>blueFirstBlood</th>\n",
       "      <th>blueKills</th>\n",
       "      <th>blueDeaths</th>\n",
       "      <th>blueAssists</th>\n",
       "      <th>blueEliteMonsters</th>\n",
       "      <th>blueDragons</th>\n",
       "      <th>...</th>\n",
       "      <th>redTowersDestroyed</th>\n",
       "      <th>redTotalGold</th>\n",
       "      <th>redAvgLevel</th>\n",
       "      <th>redTotalExperience</th>\n",
       "      <th>redTotalMinionsKilled</th>\n",
       "      <th>redTotalJungleMinionsKilled</th>\n",
       "      <th>redGoldDiff</th>\n",
       "      <th>redExperienceDiff</th>\n",
       "      <th>redCSPerMin</th>\n",
       "      <th>redGoldPerMin</th>\n",
       "    </tr>\n",
       "  </thead>\n",
       "  <tbody>\n",
       "    <tr>\n",
       "      <th>0</th>\n",
       "      <td>4519157822</td>\n",
       "      <td>0</td>\n",
       "      <td>28</td>\n",
       "      <td>2</td>\n",
       "      <td>1</td>\n",
       "      <td>9</td>\n",
       "      <td>6</td>\n",
       "      <td>11</td>\n",
       "      <td>0</td>\n",
       "      <td>0</td>\n",
       "      <td>...</td>\n",
       "      <td>0</td>\n",
       "      <td>16567</td>\n",
       "      <td>6.8</td>\n",
       "      <td>17047</td>\n",
       "      <td>197</td>\n",
       "      <td>55</td>\n",
       "      <td>-643</td>\n",
       "      <td>8</td>\n",
       "      <td>19.7</td>\n",
       "      <td>1656.7</td>\n",
       "    </tr>\n",
       "    <tr>\n",
       "      <th>1</th>\n",
       "      <td>4523371949</td>\n",
       "      <td>0</td>\n",
       "      <td>12</td>\n",
       "      <td>1</td>\n",
       "      <td>0</td>\n",
       "      <td>5</td>\n",
       "      <td>5</td>\n",
       "      <td>5</td>\n",
       "      <td>0</td>\n",
       "      <td>0</td>\n",
       "      <td>...</td>\n",
       "      <td>1</td>\n",
       "      <td>17620</td>\n",
       "      <td>6.8</td>\n",
       "      <td>17438</td>\n",
       "      <td>240</td>\n",
       "      <td>52</td>\n",
       "      <td>2908</td>\n",
       "      <td>1173</td>\n",
       "      <td>24.0</td>\n",
       "      <td>1762.0</td>\n",
       "    </tr>\n",
       "    <tr>\n",
       "      <th>2</th>\n",
       "      <td>4521474530</td>\n",
       "      <td>0</td>\n",
       "      <td>15</td>\n",
       "      <td>0</td>\n",
       "      <td>0</td>\n",
       "      <td>7</td>\n",
       "      <td>11</td>\n",
       "      <td>4</td>\n",
       "      <td>1</td>\n",
       "      <td>1</td>\n",
       "      <td>...</td>\n",
       "      <td>0</td>\n",
       "      <td>17285</td>\n",
       "      <td>6.8</td>\n",
       "      <td>17254</td>\n",
       "      <td>203</td>\n",
       "      <td>28</td>\n",
       "      <td>1172</td>\n",
       "      <td>1033</td>\n",
       "      <td>20.3</td>\n",
       "      <td>1728.5</td>\n",
       "    </tr>\n",
       "    <tr>\n",
       "      <th>3</th>\n",
       "      <td>4524384067</td>\n",
       "      <td>0</td>\n",
       "      <td>43</td>\n",
       "      <td>1</td>\n",
       "      <td>0</td>\n",
       "      <td>4</td>\n",
       "      <td>5</td>\n",
       "      <td>5</td>\n",
       "      <td>1</td>\n",
       "      <td>0</td>\n",
       "      <td>...</td>\n",
       "      <td>0</td>\n",
       "      <td>16478</td>\n",
       "      <td>7.0</td>\n",
       "      <td>17961</td>\n",
       "      <td>235</td>\n",
       "      <td>47</td>\n",
       "      <td>1321</td>\n",
       "      <td>7</td>\n",
       "      <td>23.5</td>\n",
       "      <td>1647.8</td>\n",
       "    </tr>\n",
       "    <tr>\n",
       "      <th>4</th>\n",
       "      <td>4436033771</td>\n",
       "      <td>0</td>\n",
       "      <td>75</td>\n",
       "      <td>4</td>\n",
       "      <td>0</td>\n",
       "      <td>6</td>\n",
       "      <td>6</td>\n",
       "      <td>6</td>\n",
       "      <td>0</td>\n",
       "      <td>0</td>\n",
       "      <td>...</td>\n",
       "      <td>0</td>\n",
       "      <td>17404</td>\n",
       "      <td>7.0</td>\n",
       "      <td>18313</td>\n",
       "      <td>225</td>\n",
       "      <td>67</td>\n",
       "      <td>1004</td>\n",
       "      <td>-230</td>\n",
       "      <td>22.5</td>\n",
       "      <td>1740.4</td>\n",
       "    </tr>\n",
       "  </tbody>\n",
       "</table>\n",
       "<p>5 rows × 40 columns</p>\n",
       "</div>"
      ],
      "text/plain": [
       "       gameId  blueWins  blueWardsPlaced  blueWardsDestroyed  blueFirstBlood  \\\n",
       "0  4519157822         0               28                   2               1   \n",
       "1  4523371949         0               12                   1               0   \n",
       "2  4521474530         0               15                   0               0   \n",
       "3  4524384067         0               43                   1               0   \n",
       "4  4436033771         0               75                   4               0   \n",
       "\n",
       "   blueKills  blueDeaths  blueAssists  blueEliteMonsters  blueDragons  ...  \\\n",
       "0          9           6           11                  0            0  ...   \n",
       "1          5           5            5                  0            0  ...   \n",
       "2          7          11            4                  1            1  ...   \n",
       "3          4           5            5                  1            0  ...   \n",
       "4          6           6            6                  0            0  ...   \n",
       "\n",
       "   redTowersDestroyed  redTotalGold  redAvgLevel  redTotalExperience  \\\n",
       "0                   0         16567          6.8               17047   \n",
       "1                   1         17620          6.8               17438   \n",
       "2                   0         17285          6.8               17254   \n",
       "3                   0         16478          7.0               17961   \n",
       "4                   0         17404          7.0               18313   \n",
       "\n",
       "   redTotalMinionsKilled  redTotalJungleMinionsKilled  redGoldDiff  \\\n",
       "0                    197                           55         -643   \n",
       "1                    240                           52         2908   \n",
       "2                    203                           28         1172   \n",
       "3                    235                           47         1321   \n",
       "4                    225                           67         1004   \n",
       "\n",
       "   redExperienceDiff  redCSPerMin  redGoldPerMin  \n",
       "0                  8         19.7         1656.7  \n",
       "1               1173         24.0         1762.0  \n",
       "2               1033         20.3         1728.5  \n",
       "3                  7         23.5         1647.8  \n",
       "4               -230         22.5         1740.4  \n",
       "\n",
       "[5 rows x 40 columns]"
      ]
     },
     "execution_count": 2,
     "metadata": {},
     "output_type": "execute_result"
    }
   ],
   "source": [
    "data_df = pd.read_csv('data.csv')\n",
    "data_df.head()"
   ]
  },
  {
   "cell_type": "code",
   "execution_count": 3,
   "id": "8053b9b1-1382-4fa9-86a6-87f1deee1a93",
   "metadata": {},
   "outputs": [
    {
     "name": "stdout",
     "output_type": "stream",
     "text": [
      "<class 'pandas.core.frame.DataFrame'>\n",
      "RangeIndex: 9879 entries, 0 to 9878\n",
      "Data columns (total 40 columns):\n",
      " #   Column                        Non-Null Count  Dtype  \n",
      "---  ------                        --------------  -----  \n",
      " 0   gameId                        9879 non-null   int64  \n",
      " 1   blueWins                      9879 non-null   int64  \n",
      " 2   blueWardsPlaced               9879 non-null   int64  \n",
      " 3   blueWardsDestroyed            9879 non-null   int64  \n",
      " 4   blueFirstBlood                9879 non-null   int64  \n",
      " 5   blueKills                     9879 non-null   int64  \n",
      " 6   blueDeaths                    9879 non-null   int64  \n",
      " 7   blueAssists                   9879 non-null   int64  \n",
      " 8   blueEliteMonsters             9879 non-null   int64  \n",
      " 9   blueDragons                   9879 non-null   int64  \n",
      " 10  blueHeralds                   9879 non-null   int64  \n",
      " 11  blueTowersDestroyed           9879 non-null   int64  \n",
      " 12  blueTotalGold                 9879 non-null   int64  \n",
      " 13  blueAvgLevel                  9879 non-null   float64\n",
      " 14  blueTotalExperience           9879 non-null   int64  \n",
      " 15  blueTotalMinionsKilled        9879 non-null   int64  \n",
      " 16  blueTotalJungleMinionsKilled  9879 non-null   int64  \n",
      " 17  blueGoldDiff                  9879 non-null   int64  \n",
      " 18  blueExperienceDiff            9879 non-null   int64  \n",
      " 19  blueCSPerMin                  9879 non-null   float64\n",
      " 20  blueGoldPerMin                9879 non-null   float64\n",
      " 21  redWardsPlaced                9879 non-null   int64  \n",
      " 22  redWardsDestroyed             9879 non-null   int64  \n",
      " 23  redFirstBlood                 9879 non-null   int64  \n",
      " 24  redKills                      9879 non-null   int64  \n",
      " 25  redDeaths                     9879 non-null   int64  \n",
      " 26  redAssists                    9879 non-null   int64  \n",
      " 27  redEliteMonsters              9879 non-null   int64  \n",
      " 28  redDragons                    9879 non-null   int64  \n",
      " 29  redHeralds                    9879 non-null   int64  \n",
      " 30  redTowersDestroyed            9879 non-null   int64  \n",
      " 31  redTotalGold                  9879 non-null   int64  \n",
      " 32  redAvgLevel                   9879 non-null   float64\n",
      " 33  redTotalExperience            9879 non-null   int64  \n",
      " 34  redTotalMinionsKilled         9879 non-null   int64  \n",
      " 35  redTotalJungleMinionsKilled   9879 non-null   int64  \n",
      " 36  redGoldDiff                   9879 non-null   int64  \n",
      " 37  redExperienceDiff             9879 non-null   int64  \n",
      " 38  redCSPerMin                   9879 non-null   float64\n",
      " 39  redGoldPerMin                 9879 non-null   float64\n",
      "dtypes: float64(6), int64(34)\n",
      "memory usage: 3.0 MB\n"
     ]
    }
   ],
   "source": [
    "data_df.info()"
   ]
  },
  {
   "cell_type": "markdown",
   "id": "e0a6e084-af0a-4eea-ba75-d27709471e38",
   "metadata": {},
   "source": [
    "1 trận đấu gồm 2 đội, đội xanh có 19 cột sau:\n",
    "- blueWardsPlaced: Số lượng mắt được cắm trong 10'\n",
    "- blueWardsDestroyed: Số lượng mắt phá huỷ trong 10'\n",
    "- blueFirstBlood: Đội có được firstblood hay không, gồm 2 giá trị 0,1\n",
    "- blueKills: Số lượng kill trong 10' đầu\n",
    "- blueDeaths: Số lượng death trong 10' đầu\n",
    "- blueAssists: Số lượng assists trong 10' đầu\n",
    "- blueEliteMonsters: Số lượng elite monster hạ gục trong 10' đầu\n",
    "- blueDragons: Số lượng rồng hạ gục trong 10' đầu\n",
    "- blueHeralds: Số lượng sứ giả hạ gục trong 10' đầu\n",
    "- blueTowersDestroyed: Số lượng tower phá được trong 10' đầu\n",
    "- blueTotalGold: Tổng số gold trong 10' đầu\n",
    "- blueAvgLevel:  Level trung bình của các thành viên trong đội trong 10' đầu của đội\n",
    "- blueTotalExperience: Tổng số lượng exp của cả dội trong 10' đầu\n",
    "- blueTotalMinionsKilled: Tổng số lượng lính hạ gục của cả đội trong 10' đầu\n",
    "- blueTotalJungleMinionsKilled: Tổng số quái rừng bị hạ gục trong 10' đầu\n",
    "- blueGoldDiff: Chêch lệch gold với đổi đội đỏ trong 10' đầu\n",
    "- blueExperienceDiff: Chêch lệch exp với đội đỏ trong 10' đầu\n",
    "- blueCSPerMin: số lượng lính hạ gục mỗi phút trong 10' đầu\n",
    "- blueGoldPerMin: Số lượng gold kiếm được mỗi phút trong 10' đầu"
   ]
  },
  {
   "cell_type": "markdown",
   "id": "30905945-dfee-4f2a-8715-61e7949cf9fc",
   "metadata": {},
   "source": [
    "Đội đỏ có tương tự 19 cột như trên"
   ]
  },
  {
   "cell_type": "code",
   "execution_count": 4,
   "id": "2e5d9b9e-9ce4-4939-a003-baf17f890306",
   "metadata": {},
   "outputs": [
    {
     "data": {
      "text/plain": [
       "(9879, 40)"
      ]
     },
     "execution_count": 4,
     "metadata": {},
     "output_type": "execute_result"
    }
   ],
   "source": [
    "data_df.shape"
   ]
  },
  {
   "cell_type": "markdown",
   "id": "02c5a39d-4d84-4f96-8fce-93e0ac99b5fe",
   "metadata": {},
   "source": [
    "#### Dữ liệu có bao nhiêu dòng, cột, có cột nào có dữ liệu thiếu không, có vấn đề gì với các cột không\n",
    "- Ta thấy rằng có chính xác 40 cột và 9.879 dòng, tức là khoảng 10.000 dòng như mô tả.\n",
    "- Xem xét sơ thông tin các cột, ta thấy rằng không có dữ liệu thiếu, không có vấn đề gì cả."
   ]
  },
  {
   "cell_type": "markdown",
   "id": "63a9a6e3-2f4e-4dce-ad2c-e93b85f2c111",
   "metadata": {},
   "source": [
    "#### Dữ liệu có bị lặp hay không"
   ]
  },
  {
   "cell_type": "code",
   "execution_count": 5,
   "id": "66bc01b1-9f56-4a02-b783-001c7dd5790e",
   "metadata": {},
   "outputs": [
    {
     "data": {
      "text/plain": [
       "False"
      ]
     },
     "execution_count": 5,
     "metadata": {},
     "output_type": "execute_result"
    }
   ],
   "source": [
    "np.any(data_df.duplicated())"
   ]
  },
  {
   "cell_type": "markdown",
   "id": "befa19a1-24be-4511-bee8-dae5c7ae4b8e",
   "metadata": {},
   "source": [
    "Vậy là không có dữ liệu trùng lặp, chúng ta sẽ đi đến bước đặt câu hỏi và phân tích"
   ]
  },
  {
   "cell_type": "markdown",
   "id": "bdf515c2-c6cf-47fa-ac33-f68e369ef53a",
   "metadata": {},
   "source": [
    "### TÌM HIỂU VÀ PHÂN TÍCH"
   ]
  },
  {
   "cell_type": "markdown",
   "id": "11c54c00",
   "metadata": {},
   "source": [
    "##### Câu hỏi 1: Cần tập trung yếu tố nào trong 10 phút đầu game để giành được chiến thắng?\n",
    "Lợi ích khi trả lời được câu hỏi: Nhận biết được các yếu tố chủ chốt đề giành được thắng lợi quan trọng trong 1 trận đấu, giúp tăng hiểu biết về game và biết được nên ưu tiên làm gì trong giai đoạn đầu trận đấu"
   ]
  },
  {
   "cell_type": "markdown",
   "id": "88d229be",
   "metadata": {},
   "source": [
    "Đầu tiên dễ nhìn thấy nhất là ta sẽ xem thử là lựa chọn màu đội có ảnh hưởng đến tỉ lệ thắng hay không(Trong game thì việc ở đội xanh hay đội đỏ sẽ ảnh hưởng đến việc được cấm chọn trước hay sau)"
   ]
  },
  {
   "cell_type": "code",
   "execution_count": 6,
   "id": "4f8bea78",
   "metadata": {},
   "outputs": [],
   "source": [
    "blue = data_df['blueWins']\n",
    "# blue = 1 là thể hiện đội xanh thắng, blue = 0 là đội đỏ thắng\n",
    "games_count = data_df.shape[0]"
   ]
  },
  {
   "cell_type": "code",
   "execution_count": 7,
   "id": "58837d21",
   "metadata": {},
   "outputs": [
    {
     "data": {
      "image/png": "[encoded data removed]",
      "text/plain": [
       "<Figure size 432x288 with 1 Axes>"
      ]
     },
     "metadata": {
      "needs_background": "light"
     },
     "output_type": "display_data"
    }
   ],
   "source": [
    "#Xử lí\n",
    "blue_win_rate = (len(data_df[blue == 1])/games_count) * 100\n",
    "y = [round(blue_win_rate,3),100-round(blue_win_rate,3)]\n",
    "x = ['Blue', 'Red']\n",
    "\n",
    "#Trực quan\n",
    "bars = plt.bar(x, height=y, width=.4)\n",
    "plt.xlabel('Team Color')\n",
    "plt.ylabel('Win Rate')\n",
    "plt.title('Win rate by tea')\n",
    "for bar in bars:\n",
    "    yval = bar.get_height()\n",
    "    plt.text(bar.get_x()+0.1, yval + 0.5, f\"{yval}%\")\n",
    "\n",
    "plt.show()"
   ]
  },
  {
   "cell_type": "markdown",
   "id": "cd2e3626",
   "metadata": {},
   "source": [
    "Vậy có thể thấy là việc ở team màu nào không ảnh hưởng nhiều đến chiến thắng chung cuộc. "
   ]
  },
  {
   "cell_type": "markdown",
   "id": "b684cfdc",
   "metadata": {},
   "source": [
    "Tiếp đến ta sẽ đi vào những chỉ số cơ bản nhất của trò chơi đó là số mạng hạ gục, lượng vàng, lượng kinh nghiệm. Ta sẽ tìm hiểu xem sự chênh lệch những yếu tố này trong 10 phút đầu của trận đấu có ảnh hưởng nhiều đến tỉ lệ chiến thắng hay không"
   ]
  },
  {
   "cell_type": "code",
   "execution_count": 8,
   "id": "fb362431",
   "metadata": {},
   "outputs": [
    {
     "data": {
      "image/png": "[encoded data removed]",
      "text/plain": [
       "<Figure size 432x288 with 1 Axes>"
      ]
     },
     "metadata": {
      "needs_background": "light"
     },
     "output_type": "display_data"
    }
   ],
   "source": [
    "#Xử lí các cột\n",
    "blue_win_kill = (data_df[blue==1]['blueKills'] - data_df[blue==1]['redKills']) >0\n",
    "red_win_kill = (data_df[blue==0]['redKills'] - data_df[blue==0]['blueKills']) >0\n",
    "kill = (blue_win_kill .value_counts()[True] +red_win_kill.value_counts()[True])/games_count\n",
    "\n",
    "blue_win_exp_diff = (data_df[blue==1]['blueExperienceDiff']) >0\n",
    "red_win_exp_diff = (data_df[blue==0]['redExperienceDiff']) >0\n",
    "ExpDiff = (blue_win_exp_diff.value_counts()[True] + red_win_exp_diff.value_counts()[True])/games_count\n",
    "\n",
    "blue_win_gold_diff = (data_df[blue==1]['blueGoldDiff']) >0\n",
    "red_win_gold_diff = (data_df[blue==0]['redGoldDiff']) >0\n",
    "GoldDiff = (blue_win_gold_diff.value_counts()[True] + red_win_gold_diff.value_counts()[True])/games_count\n",
    "\n",
    "blue_win_first_blood = data_df[blue==1]['blueFirstBlood'].value_counts()[1]\n",
    "red_win_first_blood = data_df[blue==0]['redFirstBlood'].value_counts()[1]\n",
    "first_blood = (blue_win_first_blood + red_win_first_blood)/games_count *100\n",
    "\n",
    "#Trực quan\n",
    "x = ['First Blood', 'Kill', 'Experience', 'Gold']\n",
    "y = [round(first_blood,3), round(kill*100,3),round(ExpDiff*100,3), round(GoldDiff*100,3)]\n",
    "bars = plt.bar(x, height=y, width=.5, color='darkcyan')\n",
    "plt.ylabel('Win Rate')\n",
    "plt.title('So sánh tỉ lệ thắng khi hơn vàng, kinh nghiệm, mạng tiêu diệt')\n",
    "for bar in bars:\n",
    "    yval = bar.get_height()\n",
    "    plt.text(bar.get_x()+0.01, yval+0.5, f\"{yval}%\")\n",
    "\n",
    "plt.show()"
   ]
  },
  {
   "cell_type": "markdown",
   "id": "e0c8da44",
   "metadata": {},
   "source": [
    "Nhận xét: Có thể thấy cả 4 yếu tố đều ảnh hưởng đến tỉ lệ thắng nhưng tỉ lệ Experience và Gold khá vượt trội so với Kill và First Blood. Vậy có thể thấy là trong 10 phút đầu tiên thì việc có được First Blood(mạng hạ gục đầu tiên trong trận đấu) hay chênh lệch Kill có ảnh hưởng đến tỉ lệ thắng nhưng tầm quan trọng của chúng không bằng so với Experience và Gold vì vậy Experience và Gold là 2 yếu tố nên được ưu tiên hơn trong 10 phút đầu của trận đấu."
   ]
  },
  {
   "cell_type": "markdown",
   "id": "c6762cf2",
   "metadata": {},
   "source": [
    "Tiếp đến sẽ là những yếu tố ít được tập trung vào hơn khi nhắc đến 1 trò chơi."
   ]
  },
  {
   "cell_type": "code",
   "execution_count": 9,
   "id": "a74429fd",
   "metadata": {},
   "outputs": [
    {
     "data": {
      "image/png": "[encoded data removed]",
      "text/plain": [
       "<Figure size 432x288 with 1 Axes>"
      ]
     },
     "metadata": {
      "needs_background": "light"
     },
     "output_type": "display_data"
    }
   ],
   "source": [
    "#Xử lí các cột\n",
    "blue_win_ward_placed = (data_df[blue==1]['blueWardsPlaced'] - data_df[blue==1]['redWardsPlaced']) > 0\n",
    "red_win_ward_placed = (data_df[blue==0]['redWardsPlaced'] - data_df[blue==0]['blueWardsPlaced']) > 0\n",
    "ward_placed = (red_win_ward_placed.value_counts()[True] + blue_win_ward_placed.value_counts()[True])/games_count\n",
    "\n",
    "blue_win_ward_destroyed = (data_df[blue==1]['blueWardsDestroyed'] - data_df[blue==1]['redWardsDestroyed']) > 0\n",
    "red_win_ward_destroyed = (data_df[blue==0]['redWardsDestroyed'] - data_df[blue==0]['blueWardsDestroyed']) > 0\n",
    "ward_destroyed = (red_win_ward_destroyed.value_counts()[True] + blue_win_ward_destroyed.value_counts()[True])/games_count\n",
    "\n",
    "blue_win_CSPerMin = (data_df[blue==1]['blueCSPerMin'] - data_df[blue==1]['redCSPerMin']) > 0\n",
    "red_win_CSPerMin = (data_df[blue==0]['redCSPerMin'] - data_df[blue==0]['blueCSPerMin']) > 0\n",
    "CSPerMin = (red_win_CSPerMin.value_counts()[True] + blue_win_CSPerMin.value_counts()[True])/games_count\n",
    "\n",
    "blue_win_TotalJungleMinionsKilled = (data_df[blue==1]['blueTotalJungleMinionsKilled'] - data_df[blue==1]['redTotalJungleMinionsKilled']) > 0\n",
    "red_win_TotalJungleMinionsKilled = (data_df[blue==0]['redTotalJungleMinionsKilled'] - data_df[blue==0]['blueTotalJungleMinionsKilled']) > 0\n",
    "TotalJungleMinionsKilled = (red_win_TotalJungleMinionsKilled.value_counts()[True] + blue_win_TotalJungleMinionsKilled.value_counts()[True])/games_count\n",
    "\n",
    "#Trực quan\n",
    "x = ['Ward Placed', 'Ward Destroyed', 'CSPerMin', 'Jungle Minions']\n",
    "y = [round(ward_placed*100,3), round(ward_destroyed*100,3),round(CSPerMin*100,3), round(TotalJungleMinionsKilled*100,3)]\n",
    "bars = plt.bar(x, height=y, width=.5, color='green')\n",
    "plt.ylabel('Win Rate')\n",
    "plt.title('Tỉ lệ thắng khi chênh lệch các yếu tố: Số mắt cắm, số mắt phá hủy, lính theo phút, quái rừng')\n",
    "for bar in bars:\n",
    "    yval = bar.get_height()\n",
    "    plt.text(bar.get_x()+0.01, yval+0.5, f\"{yval}%\")\n",
    "\n"
   ]
  },
  {
   "cell_type": "markdown",
   "id": "1346a8ec",
   "metadata": {},
   "source": [
    "Có thể thấy là chỉ số CSPerMin và JungleMinions rất quan trọng và có ảnh hưởng nhiều đến trận đấu, chỉ số WardPlaced và WardDestroyed có ảnh hưởng nhưng có lẽ là trong 10 phút đầu của trận đấu nên ưu tiên các chỉ số kia hơn"
   ]
  },
  {
   "cell_type": "code",
   "execution_count": 10,
   "id": "e3266923",
   "metadata": {},
   "outputs": [
    {
     "data": {
      "image/png": "[encoded data removed]",
      "text/plain": [
       "<Figure size 432x432 with 1 Axes>"
      ]
     },
     "metadata": {
      "needs_background": "light"
     },
     "output_type": "display_data"
    }
   ],
   "source": [
    "categories = ['First Blood', 'Kill', 'Experience', 'Gold', 'Ward Placed', 'Ward Destroyed', 'CSPerMin', 'Jungle Minions', 'First Blood']\n",
    "vehicle = [round(first_blood,3), round(kill*100,3),round(ExpDiff*100,3), round(GoldDiff*100,3), round(ward_placed*100,3), round(ward_destroyed*100,3),round(CSPerMin*100,3), round(TotalJungleMinionsKilled*100,3), round(first_blood,3)]\n",
    "placement = np.linspace(start=0, stop=2*np.pi, num=len(vehicle))\n",
    "plt.figure(figsize=(6,6))\n",
    "plt.subplot(polar=True)\n",
    "plt.plot(placement, vehicle)\n",
    "lines, labels = plt.thetagrids(np.degrees(placement), labels=categories)\n",
    "plt.ylim([0,100])\n",
    "plt.title(\"So sánh tầm quan trọng của các yếu tố ảnh hưởng đến chiến thắngkhi có được sự chênh lệch trong 10 phút đầu trận đấu\")\n",
    "plt.show()"
   ]
  },
  {
   "cell_type": "markdown",
   "id": "61a7bbbf",
   "metadata": {},
   "source": [
    "Kết luận: Vậy dựa vào các phân tích trên có thể trả lời câu hỏi đặt ra ban đầu là các yếu tố cần phải tập trung nhiều hơn trong 10 phút đầu để giành chiến thắng trong 1 trận đấu liên minh huyền thoại là Kill, Experience và Gold. \n",
    "Tất nhiên tất cả yếu tố trên đều quan trọng và không nên chỉ tập trung vào 3 yếu tố đó mà bỏ quên những yếu tố khác."
   ]
  },
  {
   "cell_type": "markdown",
   "id": "daa61db7",
   "metadata": {},
   "source": [
    "Tiếp đến sẽ là thống kê tỉ lệ thắng khi ăn hay không ăn mục tiêu lớn. Ở đây sẽ tập trung vào 2 chỉ số rất đặc biệt là Dragon và Herald. 2 chỉ số này không phải luôn luôn có vào 10 phút đầu, nhưng vẫn là những chỉ số rất quan trọng"
   ]
  },
  {
   "cell_type": "code",
   "execution_count": 11,
   "id": "aec248de",
   "metadata": {},
   "outputs": [
    {
     "data": {
      "text/html": [
       "<div>\n",
       "<style scoped>\n",
       "    .dataframe tbody tr th:only-of-type {\n",
       "        vertical-align: middle;\n",
       "    }\n",
       "\n",
       "    .dataframe tbody tr th {\n",
       "        vertical-align: top;\n",
       "    }\n",
       "\n",
       "    .dataframe thead th {\n",
       "        text-align: right;\n",
       "    }\n",
       "</style>\n",
       "<table border=\"1\" class=\"dataframe\">\n",
       "  <thead>\n",
       "    <tr style=\"text-align: right;\">\n",
       "      <th></th>\n",
       "      <th>blueWins</th>\n",
       "      <th>False</th>\n",
       "      <th>True</th>\n",
       "    </tr>\n",
       "    <tr>\n",
       "      <th>blueDragons</th>\n",
       "      <th>blueHeralds</th>\n",
       "      <th></th>\n",
       "      <th></th>\n",
       "    </tr>\n",
       "  </thead>\n",
       "  <tbody>\n",
       "    <tr>\n",
       "      <th rowspan=\"2\" valign=\"top\">0</th>\n",
       "      <th>0</th>\n",
       "      <td>3101</td>\n",
       "      <td>2055</td>\n",
       "    </tr>\n",
       "    <tr>\n",
       "      <th>1</th>\n",
       "      <td>564</td>\n",
       "      <td>583</td>\n",
       "    </tr>\n",
       "    <tr>\n",
       "      <th rowspan=\"2\" valign=\"top\">1</th>\n",
       "      <th>0</th>\n",
       "      <td>1096</td>\n",
       "      <td>1770</td>\n",
       "    </tr>\n",
       "    <tr>\n",
       "      <th>1</th>\n",
       "      <td>188</td>\n",
       "      <td>522</td>\n",
       "    </tr>\n",
       "  </tbody>\n",
       "</table>\n",
       "</div>"
      ],
      "text/plain": [
       "blueWins                 False  True \n",
       "blueDragons blueHeralds              \n",
       "0           0             3101   2055\n",
       "            1              564    583\n",
       "1           0             1096   1770\n",
       "            1              188    522"
      ]
     },
     "execution_count": 11,
     "metadata": {},
     "output_type": "execute_result"
    }
   ],
   "source": [
    "# Thống kê các trận mà đội xanh ăn được mục tiêu(rồng và sứ giả): có 4 trường hợp\n",
    "#True là đội xanh thắng, False là thua\n",
    "blue_elite = pd.crosstab([data_df['blueDragons'], data_df['blueHeralds']], data_df.blueWins.astype(bool))\n",
    "blue_elite"
   ]
  },
  {
   "cell_type": "code",
   "execution_count": 12,
   "id": "b08a11b2",
   "metadata": {},
   "outputs": [
    {
     "data": {
      "text/html": [
       "<div>\n",
       "<style scoped>\n",
       "    .dataframe tbody tr th:only-of-type {\n",
       "        vertical-align: middle;\n",
       "    }\n",
       "\n",
       "    .dataframe tbody tr th {\n",
       "        vertical-align: top;\n",
       "    }\n",
       "\n",
       "    .dataframe thead th {\n",
       "        text-align: right;\n",
       "    }\n",
       "</style>\n",
       "<table border=\"1\" class=\"dataframe\">\n",
       "  <thead>\n",
       "    <tr style=\"text-align: right;\">\n",
       "      <th></th>\n",
       "      <th>blueWins</th>\n",
       "      <th>False</th>\n",
       "      <th>True</th>\n",
       "    </tr>\n",
       "    <tr>\n",
       "      <th>redDragons</th>\n",
       "      <th>redHeralds</th>\n",
       "      <th></th>\n",
       "      <th></th>\n",
       "    </tr>\n",
       "  </thead>\n",
       "  <tbody>\n",
       "    <tr>\n",
       "      <th rowspan=\"2\" valign=\"top\">0</th>\n",
       "      <th>0</th>\n",
       "      <td>1948</td>\n",
       "      <td>2999</td>\n",
       "    </tr>\n",
       "    <tr>\n",
       "      <th>1</th>\n",
       "      <td>447</td>\n",
       "      <td>404</td>\n",
       "    </tr>\n",
       "    <tr>\n",
       "      <th rowspan=\"2\" valign=\"top\">1</th>\n",
       "      <th>0</th>\n",
       "      <td>2033</td>\n",
       "      <td>1318</td>\n",
       "    </tr>\n",
       "    <tr>\n",
       "      <th>1</th>\n",
       "      <td>521</td>\n",
       "      <td>209</td>\n",
       "    </tr>\n",
       "  </tbody>\n",
       "</table>\n",
       "</div>"
      ],
      "text/plain": [
       "blueWins               False  True \n",
       "redDragons redHeralds              \n",
       "0          0            1948   2999\n",
       "           1             447    404\n",
       "1          0            2033   1318\n",
       "           1             521    209"
      ]
     },
     "execution_count": 12,
     "metadata": {},
     "output_type": "execute_result"
    }
   ],
   "source": [
    "# Thống kê các trận mà đội đỏ ăn được mục tiêu(rồng và sứ giả): có 4 trường hợp\n",
    "# False ở đây sẽ là đội đỏ thắng, do data chỉ có 1 cột là bluewins.\n",
    "red_elite = pd.crosstab([data_df['redDragons'], data_df['redHeralds']], data_df.blueWins.astype(bool))\n",
    "red_elite "
   ]
  },
  {
   "cell_type": "code",
   "execution_count": 13,
   "id": "9e7b661f",
   "metadata": {},
   "outputs": [],
   "source": [
    "blue_elite_stat = []\n",
    "for i in range(2):\n",
    "    for j in range(2):\n",
    "        blue_elite_stat.append(round(blue_elite[True][i][j]/(blue_elite[True][i][j]+blue_elite[False][i][j])*100,2))\n",
    "red_elite_stat = []\n",
    "for i in range(2):\n",
    "    for j in range(2):\n",
    "        red_elite_stat.append(round(red_elite[False][i][j]/(red_elite[True][i][j]+red_elite[False][i][j])*100,2))"
   ]
  },
  {
   "cell_type": "code",
   "execution_count": 14,
   "id": "52bd2f2e",
   "metadata": {},
   "outputs": [
    {
     "data": {
      "image/png": "[encoded data removed]",
      "text/plain": [
       "<Figure size 576x576 with 1 Axes>"
      ]
     },
     "metadata": {
      "needs_background": "light"
     },
     "output_type": "display_data"
    }
   ],
   "source": [
    "#Trực quan\n",
    "x = ['NoEliteMonster', '0Dragon1Herald', '1Dragon0Herald', '1Dragon1Herald']\n",
    "xpos = np.arange(4)\n",
    "plt.figure(figsize=(8,8))\n",
    "plt.xticks(xpos, x)\n",
    "bars1 = plt.bar(xpos + .2, blue_elite_stat, width=.4, color='mediumblue', label='blue')\n",
    "for bar in bars1:\n",
    "    yval = bar.get_height()\n",
    "    plt.text(bar.get_x()+0.03, yval+0.25, f\"{yval}%\")\n",
    "bars2 = plt.bar(xpos - .2, red_elite_stat, width=.4, color='firebrick', label='red')\n",
    "for bar in bars2:\n",
    "    yval = bar.get_height()\n",
    "    plt.text(bar.get_x()+0.03, yval+0.25, f\"{yval}%\")\n",
    "plt.title(\"Tỉ lệ thắng khi ăn hoặc không ăn rồng và sứ giả của đội xanh và đội đỏ\")\n",
    "plt.legend()\n",
    "plt.show()"
   ]
  },
  {
   "cell_type": "markdown",
   "id": "4f090e24",
   "metadata": {},
   "source": [
    "Vậy có thể thấy là nếu không ăn được rồng hay sứ giả thì tỉ lệ giành được chiến thắng rất thấp, nên các đội cần giành sự tập trung cho rồng và sứ giả nhiều hơn nếu muốn có được chiến thắng. Còn việc ăn được cả 2 mục tiêu sẽ giúp đội đạt được tỉ lệ thắng rất cao nên tốt nhất là ưu tiên ăn các mục tiêu đó để có thể chiến thắng trận đấu, ít nhất là cũng nên giành được 1 mục tiêu, và có lẽ rồng đang có vai trò quan trọng hơn với các đội. "
   ]
  },
  {
   "cell_type": "markdown",
   "id": "b2a32611-a9a1-408a-bd28-73749dc3724a",
   "metadata": {},
   "source": [
    "##### Câu hỏi 2: Nếu chúng ta thua gold hay exp trong 10' phút đầu thì liệu chúng ta có cơ hội chiến thắng trận đấu hay không? \n",
    "Nếu trả lời được câu hỏi này, chúng ta sẽ biết được nên giữ cho khoảng cách exp và gold cách biệt ở mức nào để có khả năng lật ngược ván đấu, cũng như cách biệt như thế nào thì khả năng thắng của chúng ta chắc chắn hơn"
   ]
  },
  {
   "cell_type": "markdown",
   "id": "2dd1510f-1b17-4659-8a34-f26a6edd0d15",
   "metadata": {},
   "source": [
    "Đầu tiên, chúng ta sẽ lọc ra những attribute của đội xanh và đỏ và lưu chúng vào 2 biến **red_att** and **blue_att**"
   ]
  },
  {
   "cell_type": "code",
   "execution_count": 15,
   "id": "f877f519-e67f-4f5b-bd94-416f85d5f820",
   "metadata": {},
   "outputs": [],
   "source": [
    "blue_att = [x for x in data_df.keys() if 'blue' in x]\n",
    "blue_att.remove('blueWins')\n",
    "red_att = [x for x in data_df.keys() if 'red' in x]"
   ]
  },
  {
   "cell_type": "markdown",
   "id": "a7883f0e-61dd-4f0a-a47b-d5d0ec3715ef",
   "metadata": {},
   "source": [
    "Chúng ta sẽ viết hàm để tính giá trị trung bình, độ lệch chuẩn của exp, gold "
   ]
  },
  {
   "cell_type": "code",
   "execution_count": 16,
   "id": "58e6039a-6f3c-4f00-94bf-1bc2e96a476e",
   "metadata": {},
   "outputs": [],
   "source": [
    "def mean_std(data,team='blue'):\n",
    "    mean_exp = data[team+'TotalExperience'].mean()\n",
    "    std_exp = data[team+'TotalExperience'].std()\n",
    "    mean_gold = data[team+'TotalGold'].mean()\n",
    "    std_gold = data[team+'TotalGold'].std()\n",
    "    return mean_exp, std_exp, mean_gold, std_gold"
   ]
  },
  {
   "cell_type": "markdown",
   "id": "3e38daeb-5c9e-4017-a2b3-387165967664",
   "metadata": {},
   "source": [
    "Hàm std_range_percent sẽ làm các việc sau đây:\n",
    "- Chuyển gold, exp về dạng z-score\n",
    "- Lọc ra nhưng mẫu có z-score thuộc khoảng (std_start, std_end]\n",
    "- Tính tỉ lệ thắng của các mẫu đó"
   ]
  },
  {
   "cell_type": "code",
   "execution_count": 17,
   "id": "3087eeb4-851c-43c2-a76a-b2286ca03e4d",
   "metadata": {},
   "outputs": [],
   "source": [
    "def std_range_percent(data,range_std_start,range_std_end,team='blue'):\n",
    "    mean_exp, std_exp, mean_gold, std_gold = mean_std(data,team)\n",
    "    data['z_score_'+team+'_exp'] = (data[team+'TotalExperience'] - mean_exp)/std_exp\n",
    "    data['z_score_'+team+'_gold'] = (data[team+'TotalGold'] - mean_gold)/std_gold\n",
    "    data_exp = data[((data['z_score_'+team+'_exp']>range_std_start)&(data['z_score_'+team+'_exp']<=range_std_end))]\n",
    "    data_gold = data[(data['z_score_'+team+'_gold']>range_std_start)&(data['z_score_'+team+'_gold']<=range_std_end)]\n",
    "    if team == 'blue':\n",
    "        return (data_exp['blueWins']==1).mean()*100, (data_gold['blueWins']==1).mean()*100\n",
    "    else:\n",
    "        return (data_exp['blueWins']==0).mean()*100, (data_gold['blueWins']==0).mean()*100"
   ]
  },
  {
   "cell_type": "markdown",
   "id": "440d2065-9df8-4b8a-9a96-115797a859a8",
   "metadata": {},
   "source": [
    "Ở đây, chúng ta sẽ xem xét nếu lượng exp, gold chêch khỏi độ lệch bao nhiêu thì vẫn có khả năng gỡ lại"
   ]
  },
  {
   "cell_type": "code",
   "execution_count": 18,
   "id": "6bf7b51c-eaaf-40a7-980f-1dc42aae52c1",
   "metadata": {},
   "outputs": [],
   "source": [
    "std_check=[[-3,-2],[-2,-1],[-1,0],[0,1],[1,2],[2,3]]"
   ]
  },
  {
   "cell_type": "code",
   "execution_count": 19,
   "id": "c4e72374-8d46-402b-b576-a1233f92b68b",
   "metadata": {},
   "outputs": [],
   "source": [
    "blue_win_percent_by_exp = []\n",
    "blue_win_percent_by_gold = []\n",
    "red_win_percent_by_exp = []\n",
    "red_win_percent_by_gold = []\n",
    "for x in std_check:\n",
    "    win_exp, win_gold = std_range_percent(data_df,x[0],x[1],team='blue')\n",
    "    blue_win_percent_by_exp.append(win_exp)\n",
    "    blue_win_percent_by_gold.append(win_gold)\n",
    "    win_exp, win_gold = std_range_percent(data_df,x[0],x[1],team='red')\n",
    "    red_win_percent_by_exp.append(win_exp)\n",
    "    red_win_percent_by_gold.append(win_gold)"
   ]
  },
  {
   "cell_type": "markdown",
   "id": "1e40baf1-ee0d-4c24-944d-9395b6b18323",
   "metadata": {},
   "source": [
    "Block này chỉ dùng để tiện cho việc rename lại index các dòng"
   ]
  },
  {
   "cell_type": "code",
   "execution_count": 20,
   "id": "32bb571e-7eab-499a-af05-cf2190c801e5",
   "metadata": {},
   "outputs": [],
   "source": [
    "range_std_list = {}\n",
    "for x in range(0,len(std_check)):\n",
    "    range_std_list[x]=std_check[x]"
   ]
  },
  {
   "cell_type": "markdown",
   "id": "db60e078-5c18-46e1-95f5-57b3224fc5d9",
   "metadata": {},
   "source": [
    "- Chúng ta sẽ tiến hành tạo dataframe cho 4 kết quả vừa thu được ở trên, các list dữ liệu ở trên chỉ là tỉ lệ thắng, chúng ta sẽ tính cả tỉ lệ thua bằng cách lấy 100 - tỉ lệ thắng lưu vào 1 cột gọi là lose by exp, lose by gold trong các dataframe tương ứng\n",
    "- Do 1 trận đấu chúng ta có 2 gồm đội xanh và đội đỏ, vì thế nên chúng ta sẽ phải tạo ra 4 dataframe gồm:\n",
    "    - blue_win_percent_by_exp: tỉ lệ thắng của đội xanh dựa trên khoảng cách về exp\n",
    "    - blue_win_percent_by_gold: tỉ lệ thắng của đội xanh dựa trên khoảng cách về gold\n",
    "    - red_win_percent_by_exp: tỉ lệ thắng của đội đỏ dựa trên khoảng cách về exp\n",
    "    - red_win_percent_by_gold: tỉ lệ thắng của đội đỏ dựa trên khoảng cách về gold"
   ]
  },
  {
   "cell_type": "code",
   "execution_count": 21,
   "id": "a9e03c92-7294-4753-87d9-621f2c8ccdc9",
   "metadata": {},
   "outputs": [],
   "source": [
    "#Tạo dataframe mục đích cho việc xem xét các thông số\n",
    "blue_win_percent_by_exp = pd.DataFrame(blue_win_percent_by_exp)\n",
    "blue_win_percent_by_exp = blue_win_percent_by_exp.rename(columns={0:'win rate calculate by exp'})\n",
    "blue_win_percent_by_exp = blue_win_percent_by_exp.rename(index=range_std_list)\n",
    "blue_win_percent_by_exp['lose rate calculate by exp'] = 100 - blue_win_percent_by_exp['win rate calculate by exp'] \n",
    "\n",
    "blue_win_percent_by_gold = pd.DataFrame(blue_win_percent_by_gold)\n",
    "blue_win_percent_by_gold = blue_win_percent_by_gold.rename(columns={0:'win rate calculate by gold'})\n",
    "blue_win_percent_by_gold = blue_win_percent_by_gold.rename(index=range_std_list)\n",
    "blue_win_percent_by_gold['lose rate calculate by gold'] = 100 - blue_win_percent_by_gold['win rate calculate by gold'] \n",
    "\n",
    "red_win_percent_by_exp = pd.DataFrame(red_win_percent_by_exp)\n",
    "red_win_percent_by_exp = red_win_percent_by_exp.rename(columns={0:'win rate calculate by exp'})\n",
    "red_win_percent_by_exp = red_win_percent_by_exp.rename(index=range_std_list)\n",
    "red_win_percent_by_exp['lose rate calculate by exp'] = 100 - red_win_percent_by_exp['win rate calculate by exp'] \n",
    "\n",
    "red_win_percent_by_gold = pd.DataFrame(red_win_percent_by_gold)\n",
    "red_win_percent_by_gold = red_win_percent_by_gold.rename(columns={0:'win rate calculate by gold'})\n",
    "red_win_percent_by_gold = red_win_percent_by_gold.rename(index=range_std_list)\n",
    "red_win_percent_by_gold['lose rate calculate by gold'] = 100 - red_win_percent_by_gold['win rate calculate by gold'] "
   ]
  },
  {
   "cell_type": "code",
   "execution_count": 22,
   "id": "9f89b991-1a6a-41eb-be3d-be4519b30288",
   "metadata": {},
   "outputs": [
    {
     "data": {
      "text/html": [
       "<div>\n",
       "<style scoped>\n",
       "    .dataframe tbody tr th:only-of-type {\n",
       "        vertical-align: middle;\n",
       "    }\n",
       "\n",
       "    .dataframe tbody tr th {\n",
       "        vertical-align: top;\n",
       "    }\n",
       "\n",
       "    .dataframe thead th {\n",
       "        text-align: right;\n",
       "    }\n",
       "</style>\n",
       "<table border=\"1\" class=\"dataframe\">\n",
       "  <thead>\n",
       "    <tr style=\"text-align: right;\">\n",
       "      <th></th>\n",
       "      <th>win rate calculate by exp</th>\n",
       "      <th>lose rate calculate by exp</th>\n",
       "    </tr>\n",
       "  </thead>\n",
       "  <tbody>\n",
       "    <tr>\n",
       "      <th>[-3, -2]</th>\n",
       "      <td>9.417040</td>\n",
       "      <td>90.582960</td>\n",
       "    </tr>\n",
       "    <tr>\n",
       "      <th>[-2, -1]</th>\n",
       "      <td>21.704815</td>\n",
       "      <td>78.295185</td>\n",
       "    </tr>\n",
       "    <tr>\n",
       "      <th>[-1, 0]</th>\n",
       "      <td>39.538369</td>\n",
       "      <td>60.461631</td>\n",
       "    </tr>\n",
       "    <tr>\n",
       "      <th>[0, 1]</th>\n",
       "      <td>59.039954</td>\n",
       "      <td>40.960046</td>\n",
       "    </tr>\n",
       "    <tr>\n",
       "      <th>[1, 2]</th>\n",
       "      <td>80.754996</td>\n",
       "      <td>19.245004</td>\n",
       "    </tr>\n",
       "    <tr>\n",
       "      <th>[2, 3]</th>\n",
       "      <td>93.023256</td>\n",
       "      <td>6.976744</td>\n",
       "    </tr>\n",
       "  </tbody>\n",
       "</table>\n",
       "</div>"
      ],
      "text/plain": [
       "          win rate calculate by exp  lose rate calculate by exp\n",
       "[-3, -2]                   9.417040                   90.582960\n",
       "[-2, -1]                  21.704815                   78.295185\n",
       "[-1, 0]                   39.538369                   60.461631\n",
       "[0, 1]                    59.039954                   40.960046\n",
       "[1, 2]                    80.754996                   19.245004\n",
       "[2, 3]                    93.023256                    6.976744"
      ]
     },
     "execution_count": 22,
     "metadata": {},
     "output_type": "execute_result"
    }
   ],
   "source": [
    "blue_win_percent_by_exp"
   ]
  },
  {
   "cell_type": "code",
   "execution_count": 23,
   "id": "12542a51-d528-498a-856e-e4b85988cf6f",
   "metadata": {},
   "outputs": [
    {
     "data": {
      "text/html": [
       "<div>\n",
       "<style scoped>\n",
       "    .dataframe tbody tr th:only-of-type {\n",
       "        vertical-align: middle;\n",
       "    }\n",
       "\n",
       "    .dataframe tbody tr th {\n",
       "        vertical-align: top;\n",
       "    }\n",
       "\n",
       "    .dataframe thead th {\n",
       "        text-align: right;\n",
       "    }\n",
       "</style>\n",
       "<table border=\"1\" class=\"dataframe\">\n",
       "  <thead>\n",
       "    <tr style=\"text-align: right;\">\n",
       "      <th></th>\n",
       "      <th>win rate calculate by gold</th>\n",
       "      <th>lose rate calculate by gold</th>\n",
       "    </tr>\n",
       "  </thead>\n",
       "  <tbody>\n",
       "    <tr>\n",
       "      <th>[-3, -2]</th>\n",
       "      <td>2.040816</td>\n",
       "      <td>97.959184</td>\n",
       "    </tr>\n",
       "    <tr>\n",
       "      <th>[-2, -1]</th>\n",
       "      <td>18.683652</td>\n",
       "      <td>81.316348</td>\n",
       "    </tr>\n",
       "    <tr>\n",
       "      <th>[-1, 0]</th>\n",
       "      <td>39.399676</td>\n",
       "      <td>60.600324</td>\n",
       "    </tr>\n",
       "    <tr>\n",
       "      <th>[0, 1]</th>\n",
       "      <td>62.293520</td>\n",
       "      <td>37.706480</td>\n",
       "    </tr>\n",
       "    <tr>\n",
       "      <th>[1, 2]</th>\n",
       "      <td>79.313233</td>\n",
       "      <td>20.686767</td>\n",
       "    </tr>\n",
       "    <tr>\n",
       "      <th>[2, 3]</th>\n",
       "      <td>89.781022</td>\n",
       "      <td>10.218978</td>\n",
       "    </tr>\n",
       "  </tbody>\n",
       "</table>\n",
       "</div>"
      ],
      "text/plain": [
       "          win rate calculate by gold  lose rate calculate by gold\n",
       "[-3, -2]                    2.040816                    97.959184\n",
       "[-2, -1]                   18.683652                    81.316348\n",
       "[-1, 0]                    39.399676                    60.600324\n",
       "[0, 1]                     62.293520                    37.706480\n",
       "[1, 2]                     79.313233                    20.686767\n",
       "[2, 3]                     89.781022                    10.218978"
      ]
     },
     "execution_count": 23,
     "metadata": {},
     "output_type": "execute_result"
    }
   ],
   "source": [
    "blue_win_percent_by_gold"
   ]
  },
  {
   "cell_type": "code",
   "execution_count": 24,
   "id": "9b0288d7-8ca7-49e6-987f-99330d125e27",
   "metadata": {},
   "outputs": [
    {
     "data": {
      "text/html": [
       "<div>\n",
       "<style scoped>\n",
       "    .dataframe tbody tr th:only-of-type {\n",
       "        vertical-align: middle;\n",
       "    }\n",
       "\n",
       "    .dataframe tbody tr th {\n",
       "        vertical-align: top;\n",
       "    }\n",
       "\n",
       "    .dataframe thead th {\n",
       "        text-align: right;\n",
       "    }\n",
       "</style>\n",
       "<table border=\"1\" class=\"dataframe\">\n",
       "  <thead>\n",
       "    <tr style=\"text-align: right;\">\n",
       "      <th></th>\n",
       "      <th>win rate calculate by exp</th>\n",
       "      <th>lose rate calculate by exp</th>\n",
       "    </tr>\n",
       "  </thead>\n",
       "  <tbody>\n",
       "    <tr>\n",
       "      <th>[-3, -2]</th>\n",
       "      <td>11.538462</td>\n",
       "      <td>88.461538</td>\n",
       "    </tr>\n",
       "    <tr>\n",
       "      <th>[-2, -1]</th>\n",
       "      <td>22.377049</td>\n",
       "      <td>77.622951</td>\n",
       "    </tr>\n",
       "    <tr>\n",
       "      <th>[-1, 0]</th>\n",
       "      <td>39.579685</td>\n",
       "      <td>60.420315</td>\n",
       "    </tr>\n",
       "    <tr>\n",
       "      <th>[0, 1]</th>\n",
       "      <td>59.653179</td>\n",
       "      <td>40.346821</td>\n",
       "    </tr>\n",
       "    <tr>\n",
       "      <th>[1, 2]</th>\n",
       "      <td>79.613095</td>\n",
       "      <td>20.386905</td>\n",
       "    </tr>\n",
       "    <tr>\n",
       "      <th>[2, 3]</th>\n",
       "      <td>89.221557</td>\n",
       "      <td>10.778443</td>\n",
       "    </tr>\n",
       "  </tbody>\n",
       "</table>\n",
       "</div>"
      ],
      "text/plain": [
       "          win rate calculate by exp  lose rate calculate by exp\n",
       "[-3, -2]                  11.538462                   88.461538\n",
       "[-2, -1]                  22.377049                   77.622951\n",
       "[-1, 0]                   39.579685                   60.420315\n",
       "[0, 1]                    59.653179                   40.346821\n",
       "[1, 2]                    79.613095                   20.386905\n",
       "[2, 3]                    89.221557                   10.778443"
      ]
     },
     "execution_count": 24,
     "metadata": {},
     "output_type": "execute_result"
    }
   ],
   "source": [
    "red_win_percent_by_exp"
   ]
  },
  {
   "cell_type": "code",
   "execution_count": 25,
   "id": "73d4b374-5bcf-48f3-a54b-84765bb6cf3f",
   "metadata": {},
   "outputs": [
    {
     "data": {
      "text/html": [
       "<div>\n",
       "<style scoped>\n",
       "    .dataframe tbody tr th:only-of-type {\n",
       "        vertical-align: middle;\n",
       "    }\n",
       "\n",
       "    .dataframe tbody tr th {\n",
       "        vertical-align: top;\n",
       "    }\n",
       "\n",
       "    .dataframe thead th {\n",
       "        text-align: right;\n",
       "    }\n",
       "</style>\n",
       "<table border=\"1\" class=\"dataframe\">\n",
       "  <thead>\n",
       "    <tr style=\"text-align: right;\">\n",
       "      <th></th>\n",
       "      <th>win rate calculate by gold</th>\n",
       "      <th>lose rate calculate by gold</th>\n",
       "    </tr>\n",
       "  </thead>\n",
       "  <tbody>\n",
       "    <tr>\n",
       "      <th>[-3, -2]</th>\n",
       "      <td>7.000000</td>\n",
       "      <td>93.000000</td>\n",
       "    </tr>\n",
       "    <tr>\n",
       "      <th>[-2, -1]</th>\n",
       "      <td>18.024862</td>\n",
       "      <td>81.975138</td>\n",
       "    </tr>\n",
       "    <tr>\n",
       "      <th>[-1, 0]</th>\n",
       "      <td>41.205345</td>\n",
       "      <td>58.794655</td>\n",
       "    </tr>\n",
       "    <tr>\n",
       "      <th>[0, 1]</th>\n",
       "      <td>61.224490</td>\n",
       "      <td>38.775510</td>\n",
       "    </tr>\n",
       "    <tr>\n",
       "      <th>[1, 2]</th>\n",
       "      <td>79.402262</td>\n",
       "      <td>20.597738</td>\n",
       "    </tr>\n",
       "    <tr>\n",
       "      <th>[2, 3]</th>\n",
       "      <td>87.931034</td>\n",
       "      <td>12.068966</td>\n",
       "    </tr>\n",
       "  </tbody>\n",
       "</table>\n",
       "</div>"
      ],
      "text/plain": [
       "          win rate calculate by gold  lose rate calculate by gold\n",
       "[-3, -2]                    7.000000                    93.000000\n",
       "[-2, -1]                   18.024862                    81.975138\n",
       "[-1, 0]                    41.205345                    58.794655\n",
       "[0, 1]                     61.224490                    38.775510\n",
       "[1, 2]                     79.402262                    20.597738\n",
       "[2, 3]                     87.931034                    12.068966"
      ]
     },
     "execution_count": 25,
     "metadata": {},
     "output_type": "execute_result"
    }
   ],
   "source": [
    "red_win_percent_by_gold"
   ]
  },
  {
   "cell_type": "markdown",
   "id": "e15263a9-10a5-4585-bd34-9cf26dd74408",
   "metadata": {},
   "source": [
    "Để cho dễ nhìn, chúng ta sẽ trực quan hoá hết 4 table trên bằng stackbarchart"
   ]
  },
  {
   "cell_type": "code",
   "execution_count": 26,
   "id": "39e4c7a6-d779-4209-9e4e-74b522570173",
   "metadata": {},
   "outputs": [
    {
     "data": {
      "image/png": "[encoded data removed]",
      "text/plain": [
       "<Figure size 432x288 with 1 Axes>"
      ]
     },
     "metadata": {
      "needs_background": "light"
     },
     "output_type": "display_data"
    },
    {
     "data": {
      "image/png": "[encoded data removed]",
      "text/plain": [
       "<Figure size 432x288 with 1 Axes>"
      ]
     },
     "metadata": {
      "needs_background": "light"
     },
     "output_type": "display_data"
    }
   ],
   "source": [
    "blue_win_percent_by_exp.plot(kind='barh',stacked=True)\n",
    "plt.axvline(50,color='red')\n",
    "plt.ylabel('std range')\n",
    "plt.xlabel('percent')\n",
    "plt.title('blue win rate calculate by exp std')\n",
    "blue_win_percent_by_gold.plot(kind='barh',stacked=True)\n",
    "plt.axvline(50,color='red')\n",
    "plt.ylabel('std range')\n",
    "plt.title('blue win rate calculate by gold std')\n",
    "plt.xlabel('percent')\n",
    "plt.show()"
   ]
  },
  {
   "cell_type": "code",
   "execution_count": 27,
   "id": "6db6d50c-e3ba-4d48-bbd2-3c878630bc12",
   "metadata": {},
   "outputs": [
    {
     "data": {
      "image/png": "[encoded data removed]",
      "text/plain": [
       "<Figure size 432x288 with 1 Axes>"
      ]
     },
     "metadata": {
      "needs_background": "light"
     },
     "output_type": "display_data"
    },
    {
     "data": {
      "image/png": "[encoded data removed]",
      "text/plain": [
       "<Figure size 432x288 with 1 Axes>"
      ]
     },
     "metadata": {
      "needs_background": "light"
     },
     "output_type": "display_data"
    }
   ],
   "source": [
    "red_win_percent_by_exp.plot(kind='barh',stacked=True)\n",
    "plt.axvline(50,color='red')\n",
    "plt.ylabel('std range')\n",
    "plt.xlabel('percent')\n",
    "plt.title('red win rate calculate by exp std')\n",
    "red_win_percent_by_gold.plot(kind='barh',stacked=True)\n",
    "plt.axvline(50,color='red')\n",
    "plt.ylabel('std range')\n",
    "plt.xlabel('percent')\n",
    "plt.title('red win rate calculate by gold std')\n",
    "plt.show()"
   ]
  },
  {
   "cell_type": "markdown",
   "id": "4df01ca9-6dc3-4a4a-9562-4287ed4aa662",
   "metadata": {},
   "source": [
    "**Nhận xét**: Nhìn chung, với sự chênh lệch về gold và exp càng cao thì tỉ lệ tách biệt thắng thua sẽ càng cao, nhưng theo biểu đồ trên, chúng ta dễ dàng nhận thấy, độ chêck trong khoản từ -1 cho đến 1 độ lệch chuẩn của gold và exp thì tỉ lệ thắng thua chỉ là khoảng 40-60 hoặc ngược lại,tính ra không quá chênh lệch với tỉ lệ thắng thua ngẫu nhiên là 50%, và nếu so tỉ lệ thắng của đội xanh,đỏ trong mẫu dữ liệu ban đầu thì cũng không chênh lệch quá nhiều, nhưng từ 1 đến 2 lại thì tỉ lệ thắng thua  lại tăng thêm hẳn 20%, nghĩa là để lật ngược 1 ván đấu, thì chúng ta cần giữ cho độ chênh về gold và exp không vượt quá 1 độ lệch chuẩn thì vẫn còn đủ khả năng để thắng ngược, tuy nhiên dù cho độ chênh lệch có cao thế nào thì vẫn không chắc chắn việc thắng thua hoàn toàn được, vẫn có khoảng 10% tỉ lệ thắng khi sự chênh lệch tầm khoảng 2 đến 3 độ lệch chuẩn, có vẻ ngoài gold và exp thì vẫn có những yếu tố khác ảnh hưởng, hoặc cũng có thể sau khi qua 10' đầu của trận đấu thì độ lệch này đã được thay đổi, chúng ta sẽ xem xét đến các mục tiêu lớn"
   ]
  },
  {
   "cell_type": "markdown",
   "id": "85dd4892-a230-4ee1-b596-261dcf556a9d",
   "metadata": {},
   "source": [
    "##### Câu hỏi 3: Khi ăn các mục tiêu lớn thì khả năng thắng tăng như thế nào?\n",
    "Lợi ích khi trả lời được câu hỏi này: Chúng ta có thể quyết định nhanh rằng mục tiêu lớn nào nên được ưu tiên, có thể thay thế mục tiêu lớn đó bằng một mục tiêu lớn khác không, cụ thể là rồng và sứ giả"
   ]
  },
  {
   "cell_type": "markdown",
   "id": "25f2f2bc-337c-43a7-97bd-c72949712e7d",
   "metadata": {},
   "source": [
    "<p>Có 2 mục tiêu lớn mà chúng ta cần quan tâm là rồng và sứ giả, tạm thời chúng ta sẽ xem xét dragon trước</p>\n",
    "Chúng ta sẽ lọc ra những trận đấu mà đội đỏ ăn rồng và đội xanh ăn rồng, sau đó lưu vào 2 biến <b>red_dragon</b> và <b>blue_dragon</b>"
   ]
  },
  {
   "cell_type": "code",
   "execution_count": 28,
   "id": "e687b499-2731-4edb-a729-3ee7a39daa63",
   "metadata": {},
   "outputs": [],
   "source": [
    "red_dragon = (data_df[data_df['redDragons']!=0]).copy()\n",
    "blue_dragon = (data_df[(data_df['blueDragons']!=0)]).copy()"
   ]
  },
  {
   "cell_type": "markdown",
   "id": "16e216bd-a73a-479e-aff1-d66a79c08b91",
   "metadata": {},
   "source": [
    "Chúng ta sẽ tính tỉ lệ thắng đối với các đội ăn được rồng"
   ]
  },
  {
   "cell_type": "code",
   "execution_count": 29,
   "id": "f0335211-d3f7-499a-931f-e338a6c20492",
   "metadata": {},
   "outputs": [
    {
     "name": "stdout",
     "output_type": "stream",
     "text": [
      "Tỉ lệ thắng của đội xanh khi ăn rồng là: 64.09%\n",
      "Tỉ lệ thắng của đội đỏ khi ăn rồng là: 62.58%\n"
     ]
    }
   ],
   "source": [
    "red_dragon_wins = (red_dragon[\"blueWins\"]==0).mean()*100\n",
    "blue_dragon_wins = (blue_dragon[\"blueWins\"]==1).mean()*100\n",
    "print(f'Tỉ lệ thắng của đội xanh khi ăn rồng là: {blue_dragon_wins:<.2f}%')\n",
    "print(f'Tỉ lệ thắng của đội đỏ khi ăn rồng là: {red_dragon_wins:<.2f}%')"
   ]
  },
  {
   "cell_type": "markdown",
   "id": "3b4a5c67-166c-4d08-88aa-11c28e3db89f",
   "metadata": {},
   "source": [
    "Tương tự như ở **câu hỏi 2**, chúng ta sẽ tính tỉ lệ thắng dựa trên gold và exp bằng 2 bộ dữ liệu đã lọc ra là **blue_dragon** và **red_dragon**"
   ]
  },
  {
   "cell_type": "code",
   "execution_count": 30,
   "id": "1f425a81-c22d-49af-9cd9-5bd607656c5d",
   "metadata": {},
   "outputs": [],
   "source": [
    "std_check = [[-3,-2],[-2,-1],[-1,0],[0,1],[1,2],[2,3]]\n",
    "blue_win_percent_by_exp = []\n",
    "blue_win_percent_by_gold = []\n",
    "red_win_percent_by_exp = []\n",
    "red_win_percent_by_gold = []\n",
    "for x in std_check:\n",
    "    win_rate_by_exp_std, win_rate_by_gold_std = std_range_percent(blue_dragon,x[0],x[1])\n",
    "    blue_win_percent_by_exp.append(win_rate_by_exp_std)\n",
    "    blue_win_percent_by_gold.append(win_rate_by_gold_std)\n",
    "    win_rate_by_exp_std, win_rate_by_gold_std = std_range_percent(red_dragon,x[0],x[1],team='red')\n",
    "    red_win_percent_by_exp.append(win_rate_by_exp_std)\n",
    "    red_win_percent_by_gold.append(win_rate_by_gold_std)"
   ]
  },
  {
   "cell_type": "code",
   "execution_count": 31,
   "id": "dd4ca4d9-a7f9-466e-98b8-0b7e370c3cf9",
   "metadata": {},
   "outputs": [],
   "source": [
    "blue_win_percent_by_exp = pd.DataFrame(blue_win_percent_by_exp)\n",
    "blue_win_percent_by_exp = blue_win_percent_by_exp.rename(columns={0:'win rate calculate by exp'})\n",
    "blue_win_percent_by_exp = blue_win_percent_by_exp.rename(index=range_std_list)\n",
    "blue_win_percent_by_exp['lose rate calculate by exp'] = 100 - blue_win_percent_by_exp['win rate calculate by exp'] \n",
    "\n",
    "blue_win_percent_by_gold = pd.DataFrame(blue_win_percent_by_gold)\n",
    "blue_win_percent_by_gold = blue_win_percent_by_gold.rename(columns={0:'win rate calculate by gold'})\n",
    "blue_win_percent_by_gold = blue_win_percent_by_gold.rename(index=range_std_list)\n",
    "blue_win_percent_by_gold['lose rate calculate by gold'] = 100 - blue_win_percent_by_gold['win rate calculate by gold'] \n",
    "\n",
    "red_win_percent_by_exp = pd.DataFrame(red_win_percent_by_exp)\n",
    "red_win_percent_by_exp = red_win_percent_by_exp.rename(columns={0:'win rate calculate by exp'})\n",
    "red_win_percent_by_exp = red_win_percent_by_exp.rename(index=range_std_list)\n",
    "red_win_percent_by_exp['lose rate calculate by exp'] = 100 - red_win_percent_by_exp['win rate calculate by exp'] \n",
    "\n",
    "red_win_percent_by_gold = pd.DataFrame(red_win_percent_by_gold)\n",
    "red_win_percent_by_gold = red_win_percent_by_gold.rename(columns={0:'win rate calculate by gold'})\n",
    "red_win_percent_by_gold = red_win_percent_by_gold.rename(index=range_std_list)\n",
    "red_win_percent_by_gold['lose rate calculate by gold'] = 100 - red_win_percent_by_gold['win rate calculate by gold'] "
   ]
  },
  {
   "cell_type": "code",
   "execution_count": 32,
   "id": "19d4941d-645d-47f5-85fa-1890a3cb20a8",
   "metadata": {},
   "outputs": [
    {
     "data": {
      "text/html": [
       "<div>\n",
       "<style scoped>\n",
       "    .dataframe tbody tr th:only-of-type {\n",
       "        vertical-align: middle;\n",
       "    }\n",
       "\n",
       "    .dataframe tbody tr th {\n",
       "        vertical-align: top;\n",
       "    }\n",
       "\n",
       "    .dataframe thead th {\n",
       "        text-align: right;\n",
       "    }\n",
       "</style>\n",
       "<table border=\"1\" class=\"dataframe\">\n",
       "  <thead>\n",
       "    <tr style=\"text-align: right;\">\n",
       "      <th></th>\n",
       "      <th>win rate calculate by exp</th>\n",
       "      <th>lose rate calculate by exp</th>\n",
       "    </tr>\n",
       "  </thead>\n",
       "  <tbody>\n",
       "    <tr>\n",
       "      <th>[-3, -2]</th>\n",
       "      <td>21.917808</td>\n",
       "      <td>78.082192</td>\n",
       "    </tr>\n",
       "    <tr>\n",
       "      <th>[-2, -1]</th>\n",
       "      <td>35.331906</td>\n",
       "      <td>64.668094</td>\n",
       "    </tr>\n",
       "    <tr>\n",
       "      <th>[-1, 0]</th>\n",
       "      <td>56.389118</td>\n",
       "      <td>43.610882</td>\n",
       "    </tr>\n",
       "    <tr>\n",
       "      <th>[0, 1]</th>\n",
       "      <td>72.516026</td>\n",
       "      <td>27.483974</td>\n",
       "    </tr>\n",
       "    <tr>\n",
       "      <th>[1, 2]</th>\n",
       "      <td>91.056911</td>\n",
       "      <td>8.943089</td>\n",
       "    </tr>\n",
       "    <tr>\n",
       "      <th>[2, 3]</th>\n",
       "      <td>100.000000</td>\n",
       "      <td>0.000000</td>\n",
       "    </tr>\n",
       "  </tbody>\n",
       "</table>\n",
       "</div>"
      ],
      "text/plain": [
       "          win rate calculate by exp  lose rate calculate by exp\n",
       "[-3, -2]                  21.917808                   78.082192\n",
       "[-2, -1]                  35.331906                   64.668094\n",
       "[-1, 0]                   56.389118                   43.610882\n",
       "[0, 1]                    72.516026                   27.483974\n",
       "[1, 2]                    91.056911                    8.943089\n",
       "[2, 3]                   100.000000                    0.000000"
      ]
     },
     "execution_count": 32,
     "metadata": {},
     "output_type": "execute_result"
    }
   ],
   "source": [
    "blue_win_percent_by_exp"
   ]
  },
  {
   "cell_type": "code",
   "execution_count": 33,
   "id": "ed7273c9-f56c-4310-b121-a754ee95cef7",
   "metadata": {},
   "outputs": [
    {
     "data": {
      "text/html": [
       "<div>\n",
       "<style scoped>\n",
       "    .dataframe tbody tr th:only-of-type {\n",
       "        vertical-align: middle;\n",
       "    }\n",
       "\n",
       "    .dataframe tbody tr th {\n",
       "        vertical-align: top;\n",
       "    }\n",
       "\n",
       "    .dataframe thead th {\n",
       "        text-align: right;\n",
       "    }\n",
       "</style>\n",
       "<table border=\"1\" class=\"dataframe\">\n",
       "  <thead>\n",
       "    <tr style=\"text-align: right;\">\n",
       "      <th></th>\n",
       "      <th>win rate calculate by gold</th>\n",
       "      <th>lose rate calculate by gold</th>\n",
       "    </tr>\n",
       "  </thead>\n",
       "  <tbody>\n",
       "    <tr>\n",
       "      <th>[-3, -2]</th>\n",
       "      <td>10.000000</td>\n",
       "      <td>90.000000</td>\n",
       "    </tr>\n",
       "    <tr>\n",
       "      <th>[-2, -1]</th>\n",
       "      <td>39.583333</td>\n",
       "      <td>60.416667</td>\n",
       "    </tr>\n",
       "    <tr>\n",
       "      <th>[-1, 0]</th>\n",
       "      <td>55.808656</td>\n",
       "      <td>44.191344</td>\n",
       "    </tr>\n",
       "    <tr>\n",
       "      <th>[0, 1]</th>\n",
       "      <td>73.752151</td>\n",
       "      <td>26.247849</td>\n",
       "    </tr>\n",
       "    <tr>\n",
       "      <th>[1, 2]</th>\n",
       "      <td>89.024390</td>\n",
       "      <td>10.975610</td>\n",
       "    </tr>\n",
       "    <tr>\n",
       "      <th>[2, 3]</th>\n",
       "      <td>94.392523</td>\n",
       "      <td>5.607477</td>\n",
       "    </tr>\n",
       "  </tbody>\n",
       "</table>\n",
       "</div>"
      ],
      "text/plain": [
       "          win rate calculate by gold  lose rate calculate by gold\n",
       "[-3, -2]                   10.000000                    90.000000\n",
       "[-2, -1]                   39.583333                    60.416667\n",
       "[-1, 0]                    55.808656                    44.191344\n",
       "[0, 1]                     73.752151                    26.247849\n",
       "[1, 2]                     89.024390                    10.975610\n",
       "[2, 3]                     94.392523                     5.607477"
      ]
     },
     "execution_count": 33,
     "metadata": {},
     "output_type": "execute_result"
    }
   ],
   "source": [
    "blue_win_percent_by_gold"
   ]
  },
  {
   "cell_type": "code",
   "execution_count": 34,
   "id": "47a5f929-7f8b-4986-888d-7b88baf35d31",
   "metadata": {},
   "outputs": [
    {
     "data": {
      "text/html": [
       "<div>\n",
       "<style scoped>\n",
       "    .dataframe tbody tr th:only-of-type {\n",
       "        vertical-align: middle;\n",
       "    }\n",
       "\n",
       "    .dataframe tbody tr th {\n",
       "        vertical-align: top;\n",
       "    }\n",
       "\n",
       "    .dataframe thead th {\n",
       "        text-align: right;\n",
       "    }\n",
       "</style>\n",
       "<table border=\"1\" class=\"dataframe\">\n",
       "  <thead>\n",
       "    <tr style=\"text-align: right;\">\n",
       "      <th></th>\n",
       "      <th>win rate calculate by exp</th>\n",
       "      <th>lose rate calculate by exp</th>\n",
       "    </tr>\n",
       "  </thead>\n",
       "  <tbody>\n",
       "    <tr>\n",
       "      <th>[-3, -2]</th>\n",
       "      <td>18.627451</td>\n",
       "      <td>81.372549</td>\n",
       "    </tr>\n",
       "    <tr>\n",
       "      <th>[-2, -1]</th>\n",
       "      <td>40.076336</td>\n",
       "      <td>59.923664</td>\n",
       "    </tr>\n",
       "    <tr>\n",
       "      <th>[-1, 0]</th>\n",
       "      <td>54.668567</td>\n",
       "      <td>45.331433</td>\n",
       "    </tr>\n",
       "    <tr>\n",
       "      <th>[0, 1]</th>\n",
       "      <td>70.749280</td>\n",
       "      <td>29.250720</td>\n",
       "    </tr>\n",
       "    <tr>\n",
       "      <th>[1, 2]</th>\n",
       "      <td>87.413793</td>\n",
       "      <td>12.586207</td>\n",
       "    </tr>\n",
       "    <tr>\n",
       "      <th>[2, 3]</th>\n",
       "      <td>90.140845</td>\n",
       "      <td>9.859155</td>\n",
       "    </tr>\n",
       "  </tbody>\n",
       "</table>\n",
       "</div>"
      ],
      "text/plain": [
       "          win rate calculate by exp  lose rate calculate by exp\n",
       "[-3, -2]                  18.627451                   81.372549\n",
       "[-2, -1]                  40.076336                   59.923664\n",
       "[-1, 0]                   54.668567                   45.331433\n",
       "[0, 1]                    70.749280                   29.250720\n",
       "[1, 2]                    87.413793                   12.586207\n",
       "[2, 3]                    90.140845                    9.859155"
      ]
     },
     "execution_count": 34,
     "metadata": {},
     "output_type": "execute_result"
    }
   ],
   "source": [
    "red_win_percent_by_exp"
   ]
  },
  {
   "cell_type": "code",
   "execution_count": 35,
   "id": "24c42f02-7a15-4ac7-aebe-75500dca6caf",
   "metadata": {},
   "outputs": [
    {
     "data": {
      "text/html": [
       "<div>\n",
       "<style scoped>\n",
       "    .dataframe tbody tr th:only-of-type {\n",
       "        vertical-align: middle;\n",
       "    }\n",
       "\n",
       "    .dataframe tbody tr th {\n",
       "        vertical-align: top;\n",
       "    }\n",
       "\n",
       "    .dataframe thead th {\n",
       "        text-align: right;\n",
       "    }\n",
       "</style>\n",
       "<table border=\"1\" class=\"dataframe\">\n",
       "  <thead>\n",
       "    <tr style=\"text-align: right;\">\n",
       "      <th></th>\n",
       "      <th>win rate calculate by gold</th>\n",
       "      <th>lose rate calculate by gold</th>\n",
       "    </tr>\n",
       "  </thead>\n",
       "  <tbody>\n",
       "    <tr>\n",
       "      <th>[-3, -2]</th>\n",
       "      <td>15.217391</td>\n",
       "      <td>84.782609</td>\n",
       "    </tr>\n",
       "    <tr>\n",
       "      <th>[-2, -1]</th>\n",
       "      <td>33.996683</td>\n",
       "      <td>66.003317</td>\n",
       "    </tr>\n",
       "    <tr>\n",
       "      <th>[-1, 0]</th>\n",
       "      <td>56.386499</td>\n",
       "      <td>43.613501</td>\n",
       "    </tr>\n",
       "    <tr>\n",
       "      <th>[0, 1]</th>\n",
       "      <td>72.641509</td>\n",
       "      <td>27.358491</td>\n",
       "    </tr>\n",
       "    <tr>\n",
       "      <th>[1, 2]</th>\n",
       "      <td>86.770428</td>\n",
       "      <td>13.229572</td>\n",
       "    </tr>\n",
       "    <tr>\n",
       "      <th>[2, 3]</th>\n",
       "      <td>88.235294</td>\n",
       "      <td>11.764706</td>\n",
       "    </tr>\n",
       "  </tbody>\n",
       "</table>\n",
       "</div>"
      ],
      "text/plain": [
       "          win rate calculate by gold  lose rate calculate by gold\n",
       "[-3, -2]                   15.217391                    84.782609\n",
       "[-2, -1]                   33.996683                    66.003317\n",
       "[-1, 0]                    56.386499                    43.613501\n",
       "[0, 1]                     72.641509                    27.358491\n",
       "[1, 2]                     86.770428                    13.229572\n",
       "[2, 3]                     88.235294                    11.764706"
      ]
     },
     "execution_count": 35,
     "metadata": {},
     "output_type": "execute_result"
    }
   ],
   "source": [
    "red_win_percent_by_gold"
   ]
  },
  {
   "cell_type": "code",
   "execution_count": 36,
   "id": "d7bf65b2-c5fc-4afd-8e85-2250df8ec5dc",
   "metadata": {},
   "outputs": [
    {
     "data": {
      "image/png": "[encoded data removed]",
      "text/plain": [
       "<Figure size 432x288 with 1 Axes>"
      ]
     },
     "metadata": {
      "needs_background": "light"
     },
     "output_type": "display_data"
    },
    {
     "data": {
      "image/png": "[encoded data removed]",
      "text/plain": [
       "<Figure size 432x288 with 1 Axes>"
      ]
     },
     "metadata": {
      "needs_background": "light"
     },
     "output_type": "display_data"
    }
   ],
   "source": [
    "blue_win_percent_by_exp.plot(kind='barh',stacked=True)\n",
    "plt.axvline(50,color='red')\n",
    "plt.ylabel('std range')\n",
    "plt.xlabel('percent')\n",
    "plt.title('blue win rate calculate by exp std')\n",
    "blue_win_percent_by_gold.plot(kind='barh',stacked=True)\n",
    "plt.axvline(50,color='red')\n",
    "plt.ylabel('std range')\n",
    "plt.xlabel('percent')\n",
    "plt.title('blue win rate calculate by gold std')\n",
    "plt.show()"
   ]
  },
  {
   "cell_type": "code",
   "execution_count": 37,
   "id": "b4ae8a42-8112-49cf-9131-701c8d8ff36b",
   "metadata": {},
   "outputs": [
    {
     "data": {
      "image/png": "[encoded data removed]",
      "text/plain": [
       "<Figure size 432x288 with 1 Axes>"
      ]
     },
     "metadata": {
      "needs_background": "light"
     },
     "output_type": "display_data"
    },
    {
     "data": {
      "image/png": "[encoded data removed]",
      "text/plain": [
       "<Figure size 432x288 with 1 Axes>"
      ]
     },
     "metadata": {
      "needs_background": "light"
     },
     "output_type": "display_data"
    }
   ],
   "source": [
    "red_win_percent_by_exp.plot(kind='barh',stacked=True)\n",
    "plt.axvline(50,color='red')\n",
    "plt.ylabel('std range')\n",
    "plt.xlabel('percent')\n",
    "plt.title('red win rate calculate by exp std')\n",
    "red_win_percent_by_gold.plot(kind='barh',stacked=True)\n",
    "plt.axvline(50,color='red')\n",
    "plt.ylabel('std range')\n",
    "plt.xlabel('percent')\n",
    "plt.title('red win rate calculate by gold std')\n",
    "plt.show()"
   ]
  },
  {
   "cell_type": "markdown",
   "id": "fb17c47c-191c-4109-a771-b09fdb3a0787",
   "metadata": {},
   "source": [
    "**Nhận xét**: so sánh 4 biểu đồ ở câu 1 với 4 biểu đồ trên, chúng ta nhận thấy tỉ lệ thắng khi ăn rồng đã tăng lên đáng kể, ngay cả khi vàng và exp thua đối thủ khoảng 1 đến 2 độ lệch chuẩn thì tỉ lệ thắng vẫn hơn 30%, nếu chỉ thua trong tầm khoảng 0-1 độ lệch chuẩn thì tỉ lệ thắng lại hơn 50%, nếu không ăn rồng thì 2 con số này chỉ tầm 20% và 40% như phần biểu đồ trong **câu hỏi 2**"
   ]
  },
  {
   "cell_type": "markdown",
   "id": "990fe969-ddcd-457c-9733-3bd6b4235799",
   "metadata": {},
   "source": [
    "Tóm lại, khi đang trong thế thua của 1 ván đấu, nhất là về exp và gold thì bạn cần tập trung vào mục tiêu lớn là rồng, việc ăn rồng có thể bù đắp được việc thua về lượng exp và gold nhận được ở trong khoảng chêch lệch 1 độ lệch chuẩn"
   ]
  },
  {
   "cell_type": "markdown",
   "id": "8a071329-8392-41c6-b512-c60b5b300256",
   "metadata": {},
   "source": [
    "Còn 1 mục tiêu lớn còn lại là sứ giả, trong 1 trận đấu, **giả sử đội bạn đang ăn rồng, thì chúng ta nên ăn sứ giả, hay là tham gia tranh chấp rồng?**"
   ]
  },
  {
   "cell_type": "markdown",
   "id": "920f6d87-7f80-4fbb-b953-d655772a0ff7",
   "metadata": {},
   "source": [
    "Tương tự như phần trên, chúng ta sẽ lọc ra các trận đội xanh, đỏ ăn sứ giả và lưu vào biến **blue_herald** và **red_herald**"
   ]
  },
  {
   "cell_type": "code",
   "execution_count": 38,
   "id": "43bbe1a3-e4f0-46a1-9757-50ee7ae0a933",
   "metadata": {},
   "outputs": [],
   "source": [
    "blue_herald = (data_df[data_df['blueHeralds']!=0]).copy()\n",
    "red_herald = (data_df[data_df['redHeralds']!=0]).copy()"
   ]
  },
  {
   "cell_type": "markdown",
   "id": "6cd7ad25-5533-4912-990f-e8337612ae17",
   "metadata": {},
   "source": [
    "Dễ dàng chúng ta tính được tỉ lệ thắng của các đội chọn ăn sứ giả là"
   ]
  },
  {
   "cell_type": "code",
   "execution_count": 39,
   "id": "a5bf2f89-40f5-4603-9a8d-6a492a09367f",
   "metadata": {},
   "outputs": [
    {
     "name": "stdout",
     "output_type": "stream",
     "text": [
      "Tỉ lệ thắng của đội xanh khi ăn sứ giả là: 59.50\n",
      "Tỉ lệ thắng của đội đỏ khi ăn sứ giả là: 61.23\n"
     ]
    }
   ],
   "source": [
    "print(f'Tỉ lệ thắng của đội xanh khi ăn sứ giả là: {(blue_herald[\"blueWins\"]==1).mean()*100:<.2f}')\n",
    "print(f'Tỉ lệ thắng của đội đỏ khi ăn sứ giả là: {(red_herald[\"blueWins\"]==0).mean()*100:<.2f}')"
   ]
  },
  {
   "cell_type": "markdown",
   "id": "87f31484-1306-4748-b943-84ffcaa46d95",
   "metadata": {},
   "source": [
    "**Nhận xét**: Có vẻ như tỉ lệ thắng của các đội chọn ăn sứ giả thấp hơn là các đội chọn ăn rồng ở 10' đầu trận đấu, nhưng tỉ lệ chêch lệch chỉ khoảng 5%, chúng ta có thể tạm chấp nhận được"
   ]
  },
  {
   "cell_type": "code",
   "execution_count": 40,
   "id": "b405573d-37c3-4426-97c3-0cfb27a63457",
   "metadata": {},
   "outputs": [],
   "source": [
    "std_check = [[-3,-2],[-2,-1],[-1,0],[0,1],[1,2],[2,3]]\n",
    "blue_win_percent_by_exp = []\n",
    "blue_win_percent_by_gold = []\n",
    "red_win_percent_by_exp = []\n",
    "red_win_percent_by_gold = []\n",
    "for x in std_check:\n",
    "    win_rate_by_exp_std, win_rate_by_gold_std = std_range_percent(blue_herald,x[0],x[1])\n",
    "    blue_win_percent_by_exp.append(win_rate_by_exp_std)\n",
    "    blue_win_percent_by_gold.append(win_rate_by_gold_std)\n",
    "    win_rate_by_exp_std, win_rate_by_gold_std = std_range_percent(red_herald,x[0],x[1],team='red')\n",
    "    red_win_percent_by_exp.append(win_rate_by_exp_std)\n",
    "    red_win_percent_by_gold.append(win_rate_by_gold_std)"
   ]
  },
  {
   "cell_type": "code",
   "execution_count": 41,
   "id": "10433b6d-0362-48a3-8714-ffaff90747f1",
   "metadata": {},
   "outputs": [],
   "source": [
    "blue_win_percent_by_exp = pd.DataFrame(blue_win_percent_by_exp)\n",
    "blue_win_percent_by_exp = blue_win_percent_by_exp.rename(columns={0:'win rate calculate by exp'})\n",
    "blue_win_percent_by_exp = blue_win_percent_by_exp.rename(index=range_std_list)\n",
    "blue_win_percent_by_exp['lose rate calculate by exp'] = 100 - blue_win_percent_by_exp['win rate calculate by exp'] \n",
    "\n",
    "blue_win_percent_by_gold = pd.DataFrame(blue_win_percent_by_gold)\n",
    "blue_win_percent_by_gold = blue_win_percent_by_gold.rename(columns={0:'win rate calculate by gold'})\n",
    "blue_win_percent_by_gold = blue_win_percent_by_gold.rename(index=range_std_list)\n",
    "blue_win_percent_by_gold['lose rate calculate by gold'] = 100 - blue_win_percent_by_gold['win rate calculate by gold'] \n",
    "\n",
    "red_win_percent_by_exp = pd.DataFrame(red_win_percent_by_exp)\n",
    "red_win_percent_by_exp = red_win_percent_by_exp.rename(columns={0:'win rate calculate by exp'})\n",
    "red_win_percent_by_exp = red_win_percent_by_exp.rename(index=range_std_list)\n",
    "red_win_percent_by_exp['lose rate calculate by exp'] = 100 - red_win_percent_by_exp['win rate calculate by exp'] \n",
    "\n",
    "red_win_percent_by_gold = pd.DataFrame(red_win_percent_by_gold)\n",
    "red_win_percent_by_gold = red_win_percent_by_gold.rename(columns={0:'win rate calculate by gold'})\n",
    "red_win_percent_by_gold = red_win_percent_by_gold.rename(index=range_std_list)\n",
    "red_win_percent_by_gold['lose rate calculate by gold'] = 100 - red_win_percent_by_gold['win rate calculate by gold'] "
   ]
  },
  {
   "cell_type": "code",
   "execution_count": 42,
   "id": "43b54f00-87d2-48ba-8020-af9815226d0c",
   "metadata": {},
   "outputs": [
    {
     "data": {
      "text/html": [
       "<div>\n",
       "<style scoped>\n",
       "    .dataframe tbody tr th:only-of-type {\n",
       "        vertical-align: middle;\n",
       "    }\n",
       "\n",
       "    .dataframe tbody tr th {\n",
       "        vertical-align: top;\n",
       "    }\n",
       "\n",
       "    .dataframe thead th {\n",
       "        text-align: right;\n",
       "    }\n",
       "</style>\n",
       "<table border=\"1\" class=\"dataframe\">\n",
       "  <thead>\n",
       "    <tr style=\"text-align: right;\">\n",
       "      <th></th>\n",
       "      <th>win rate calculate by exp</th>\n",
       "      <th>lose rate calculate by exp</th>\n",
       "    </tr>\n",
       "  </thead>\n",
       "  <tbody>\n",
       "    <tr>\n",
       "      <th>[-3, -2]</th>\n",
       "      <td>23.076923</td>\n",
       "      <td>76.923077</td>\n",
       "    </tr>\n",
       "    <tr>\n",
       "      <th>[-2, -1]</th>\n",
       "      <td>30.705394</td>\n",
       "      <td>69.294606</td>\n",
       "    </tr>\n",
       "    <tr>\n",
       "      <th>[-1, 0]</th>\n",
       "      <td>53.917051</td>\n",
       "      <td>46.082949</td>\n",
       "    </tr>\n",
       "    <tr>\n",
       "      <th>[0, 1]</th>\n",
       "      <td>67.096774</td>\n",
       "      <td>32.903226</td>\n",
       "    </tr>\n",
       "    <tr>\n",
       "      <th>[1, 2]</th>\n",
       "      <td>81.467181</td>\n",
       "      <td>18.532819</td>\n",
       "    </tr>\n",
       "    <tr>\n",
       "      <th>[2, 3]</th>\n",
       "      <td>97.674419</td>\n",
       "      <td>2.325581</td>\n",
       "    </tr>\n",
       "  </tbody>\n",
       "</table>\n",
       "</div>"
      ],
      "text/plain": [
       "          win rate calculate by exp  lose rate calculate by exp\n",
       "[-3, -2]                  23.076923                   76.923077\n",
       "[-2, -1]                  30.705394                   69.294606\n",
       "[-1, 0]                   53.917051                   46.082949\n",
       "[0, 1]                    67.096774                   32.903226\n",
       "[1, 2]                    81.467181                   18.532819\n",
       "[2, 3]                    97.674419                    2.325581"
      ]
     },
     "execution_count": 42,
     "metadata": {},
     "output_type": "execute_result"
    }
   ],
   "source": [
    "blue_win_percent_by_exp"
   ]
  },
  {
   "cell_type": "code",
   "execution_count": 43,
   "id": "11431ec5-31f2-49dc-a59b-a535246c4d3b",
   "metadata": {},
   "outputs": [
    {
     "data": {
      "text/html": [
       "<div>\n",
       "<style scoped>\n",
       "    .dataframe tbody tr th:only-of-type {\n",
       "        vertical-align: middle;\n",
       "    }\n",
       "\n",
       "    .dataframe tbody tr th {\n",
       "        vertical-align: top;\n",
       "    }\n",
       "\n",
       "    .dataframe thead th {\n",
       "        text-align: right;\n",
       "    }\n",
       "</style>\n",
       "<table border=\"1\" class=\"dataframe\">\n",
       "  <thead>\n",
       "    <tr style=\"text-align: right;\">\n",
       "      <th></th>\n",
       "      <th>win rate calculate by gold</th>\n",
       "      <th>lose rate calculate by gold</th>\n",
       "    </tr>\n",
       "  </thead>\n",
       "  <tbody>\n",
       "    <tr>\n",
       "      <th>[-3, -2]</th>\n",
       "      <td>5.263158</td>\n",
       "      <td>94.736842</td>\n",
       "    </tr>\n",
       "    <tr>\n",
       "      <th>[-2, -1]</th>\n",
       "      <td>32.222222</td>\n",
       "      <td>67.777778</td>\n",
       "    </tr>\n",
       "    <tr>\n",
       "      <th>[-1, 0]</th>\n",
       "      <td>50.877193</td>\n",
       "      <td>49.122807</td>\n",
       "    </tr>\n",
       "    <tr>\n",
       "      <th>[0, 1]</th>\n",
       "      <td>70.151771</td>\n",
       "      <td>29.848229</td>\n",
       "    </tr>\n",
       "    <tr>\n",
       "      <th>[1, 2]</th>\n",
       "      <td>84.782609</td>\n",
       "      <td>15.217391</td>\n",
       "    </tr>\n",
       "    <tr>\n",
       "      <th>[2, 3]</th>\n",
       "      <td>94.117647</td>\n",
       "      <td>5.882353</td>\n",
       "    </tr>\n",
       "  </tbody>\n",
       "</table>\n",
       "</div>"
      ],
      "text/plain": [
       "          win rate calculate by gold  lose rate calculate by gold\n",
       "[-3, -2]                    5.263158                    94.736842\n",
       "[-2, -1]                   32.222222                    67.777778\n",
       "[-1, 0]                    50.877193                    49.122807\n",
       "[0, 1]                     70.151771                    29.848229\n",
       "[1, 2]                     84.782609                    15.217391\n",
       "[2, 3]                     94.117647                     5.882353"
      ]
     },
     "execution_count": 43,
     "metadata": {},
     "output_type": "execute_result"
    }
   ],
   "source": [
    "blue_win_percent_by_gold"
   ]
  },
  {
   "cell_type": "code",
   "execution_count": 44,
   "id": "59c11323-11d5-4dc1-a51f-54dee042d1bf",
   "metadata": {},
   "outputs": [
    {
     "data": {
      "text/html": [
       "<div>\n",
       "<style scoped>\n",
       "    .dataframe tbody tr th:only-of-type {\n",
       "        vertical-align: middle;\n",
       "    }\n",
       "\n",
       "    .dataframe tbody tr th {\n",
       "        vertical-align: top;\n",
       "    }\n",
       "\n",
       "    .dataframe thead th {\n",
       "        text-align: right;\n",
       "    }\n",
       "</style>\n",
       "<table border=\"1\" class=\"dataframe\">\n",
       "  <thead>\n",
       "    <tr style=\"text-align: right;\">\n",
       "      <th></th>\n",
       "      <th>win rate calculate by exp</th>\n",
       "      <th>lose rate calculate by exp</th>\n",
       "    </tr>\n",
       "  </thead>\n",
       "  <tbody>\n",
       "    <tr>\n",
       "      <th>[-3, -2]</th>\n",
       "      <td>16.216216</td>\n",
       "      <td>83.783784</td>\n",
       "    </tr>\n",
       "    <tr>\n",
       "      <th>[-2, -1]</th>\n",
       "      <td>32.512315</td>\n",
       "      <td>67.487685</td>\n",
       "    </tr>\n",
       "    <tr>\n",
       "      <th>[-1, 0]</th>\n",
       "      <td>53.644860</td>\n",
       "      <td>46.355140</td>\n",
       "    </tr>\n",
       "    <tr>\n",
       "      <th>[0, 1]</th>\n",
       "      <td>71.480804</td>\n",
       "      <td>28.519196</td>\n",
       "    </tr>\n",
       "    <tr>\n",
       "      <th>[1, 2]</th>\n",
       "      <td>85.217391</td>\n",
       "      <td>14.782609</td>\n",
       "    </tr>\n",
       "    <tr>\n",
       "      <th>[2, 3]</th>\n",
       "      <td>86.363636</td>\n",
       "      <td>13.636364</td>\n",
       "    </tr>\n",
       "  </tbody>\n",
       "</table>\n",
       "</div>"
      ],
      "text/plain": [
       "          win rate calculate by exp  lose rate calculate by exp\n",
       "[-3, -2]                  16.216216                   83.783784\n",
       "[-2, -1]                  32.512315                   67.487685\n",
       "[-1, 0]                   53.644860                   46.355140\n",
       "[0, 1]                    71.480804                   28.519196\n",
       "[1, 2]                    85.217391                   14.782609\n",
       "[2, 3]                    86.363636                   13.636364"
      ]
     },
     "execution_count": 44,
     "metadata": {},
     "output_type": "execute_result"
    }
   ],
   "source": [
    "red_win_percent_by_exp"
   ]
  },
  {
   "cell_type": "code",
   "execution_count": 45,
   "id": "80cccc7c-fecc-4c47-92c7-1491591f04d5",
   "metadata": {},
   "outputs": [
    {
     "data": {
      "text/html": [
       "<div>\n",
       "<style scoped>\n",
       "    .dataframe tbody tr th:only-of-type {\n",
       "        vertical-align: middle;\n",
       "    }\n",
       "\n",
       "    .dataframe tbody tr th {\n",
       "        vertical-align: top;\n",
       "    }\n",
       "\n",
       "    .dataframe thead th {\n",
       "        text-align: right;\n",
       "    }\n",
       "</style>\n",
       "<table border=\"1\" class=\"dataframe\">\n",
       "  <thead>\n",
       "    <tr style=\"text-align: right;\">\n",
       "      <th></th>\n",
       "      <th>win rate calculate by gold</th>\n",
       "      <th>lose rate calculate by gold</th>\n",
       "    </tr>\n",
       "  </thead>\n",
       "  <tbody>\n",
       "    <tr>\n",
       "      <th>[-3, -2]</th>\n",
       "      <td>0.000000</td>\n",
       "      <td>100.000000</td>\n",
       "    </tr>\n",
       "    <tr>\n",
       "      <th>[-2, -1]</th>\n",
       "      <td>28.691983</td>\n",
       "      <td>71.308017</td>\n",
       "    </tr>\n",
       "    <tr>\n",
       "      <th>[-1, 0]</th>\n",
       "      <td>55.631399</td>\n",
       "      <td>44.368601</td>\n",
       "    </tr>\n",
       "    <tr>\n",
       "      <th>[0, 1]</th>\n",
       "      <td>71.779141</td>\n",
       "      <td>28.220859</td>\n",
       "    </tr>\n",
       "    <tr>\n",
       "      <th>[1, 2]</th>\n",
       "      <td>86.473430</td>\n",
       "      <td>13.526570</td>\n",
       "    </tr>\n",
       "    <tr>\n",
       "      <th>[2, 3]</th>\n",
       "      <td>93.181818</td>\n",
       "      <td>6.818182</td>\n",
       "    </tr>\n",
       "  </tbody>\n",
       "</table>\n",
       "</div>"
      ],
      "text/plain": [
       "          win rate calculate by gold  lose rate calculate by gold\n",
       "[-3, -2]                    0.000000                   100.000000\n",
       "[-2, -1]                   28.691983                    71.308017\n",
       "[-1, 0]                    55.631399                    44.368601\n",
       "[0, 1]                     71.779141                    28.220859\n",
       "[1, 2]                     86.473430                    13.526570\n",
       "[2, 3]                     93.181818                     6.818182"
      ]
     },
     "execution_count": 45,
     "metadata": {},
     "output_type": "execute_result"
    }
   ],
   "source": [
    "red_win_percent_by_gold"
   ]
  },
  {
   "cell_type": "code",
   "execution_count": 46,
   "id": "b5de14cb-c340-4ddc-b90f-c8c5f26d05bb",
   "metadata": {},
   "outputs": [
    {
     "data": {
      "image/png": "[encoded data removed]",
      "text/plain": [
       "<Figure size 432x288 with 1 Axes>"
      ]
     },
     "metadata": {
      "needs_background": "light"
     },
     "output_type": "display_data"
    },
    {
     "data": {
      "image/png": "[encoded data removed]",
      "text/plain": [
       "<Figure size 432x288 with 1 Axes>"
      ]
     },
     "metadata": {
      "needs_background": "light"
     },
     "output_type": "display_data"
    }
   ],
   "source": [
    "blue_win_percent_by_exp.plot(kind='barh',stacked=True)\n",
    "plt.axvline(50,color='red')\n",
    "plt.ylabel('std range')\n",
    "plt.xlabel('percent')\n",
    "plt.title('blue win rate calculate by exp std')\n",
    "blue_win_percent_by_gold.plot(kind='barh',stacked=True)\n",
    "plt.axvline(50,color='red')\n",
    "plt.ylabel('std range')\n",
    "plt.xlabel('percent')\n",
    "plt.title('blue win rate calculate by gold std')\n",
    "plt.show()"
   ]
  },
  {
   "cell_type": "code",
   "execution_count": 47,
   "id": "72dd7502-b8ef-4c40-be5d-a26182a8be5e",
   "metadata": {},
   "outputs": [
    {
     "data": {
      "image/png": "[encoded data removed]",
      "text/plain": [
       "<Figure size 432x288 with 1 Axes>"
      ]
     },
     "metadata": {
      "needs_background": "light"
     },
     "output_type": "display_data"
    },
    {
     "data": {
      "image/png": "[encoded data removed]",
      "text/plain": [
       "<Figure size 432x288 with 1 Axes>"
      ]
     },
     "metadata": {
      "needs_background": "light"
     },
     "output_type": "display_data"
    }
   ],
   "source": [
    "red_win_percent_by_exp.plot(kind='barh',stacked=True)\n",
    "plt.axvline(50,color='red')\n",
    "plt.ylabel('std range')\n",
    "plt.xlabel('percent')\n",
    "plt.title('red win rate calculate by exp std')\n",
    "red_win_percent_by_gold.plot(kind='barh',stacked=True)\n",
    "plt.axvline(50,color='red')\n",
    "plt.ylabel('std range')\n",
    "plt.xlabel('percent')\n",
    "plt.title('red win rate calculate by gold std')\n",
    "plt.show()"
   ]
  },
  {
   "cell_type": "markdown",
   "id": "a8fc5d5e-4995-40da-8c1c-74d546bddab9",
   "metadata": {},
   "source": [
    "**Nhận xét**: So sánh với những đội chọn ăn rồng, thì có vẻ như tỉ lệ thắng có vẻ thấp hơn một vài %, điều này có thể chấp nhận được, nhưng chúng ta hãy để ý đến lượng gold, có vẻ nếu mà 1 đội thua quá xa về lượng gold thì việc ăn sứ giả không có bất cứ tác dụng nào cả khi so sánh với những đội chọn ăn rồng"
   ]
  },
  {
   "cell_type": "markdown",
   "id": "79d83659-e7cc-421b-8232-1ca7db6fc0f9",
   "metadata": {},
   "source": [
    "**Kết luận rút ra sau 2 câu hỏi**: Gold và exp là 2 yếu tố quan trọng để thắng trận đấu, nhưng nếu bạn không thể nào có đủ lượng gold và exp như đối thủ, thì hãy cố gắng đừng để khoảng cách đó quá xa khỏi 1 độ lệch chuẩn, tuy nhiên, nếu không thể giữ được khoảng cách đó, thì team của bạn cần tập trung nhiều vào những mục tiêu lớn cụ thể là rồng, đặc biệt nếu team bạn đang thua về gold, thì bắt buột mục tiêu lớn phải là rồng, vì sứ giả sẽ không thể bù đắp được cho bạn nếu lượng vàng thua quá lớn"
   ]
  },
  {
   "cell_type": "markdown",
   "id": "39f1005c-50c6-4ae8-841a-d3b07137565d",
   "metadata": {},
   "source": [
    "## CẢM NHẬN"
   ]
  },
  {
   "cell_type": "markdown",
   "id": "896e871d-b0dc-47ed-b152-b51da8b746b1",
   "metadata": {},
   "source": [
    "### Trần Hoàng Nam\n",
    "- Những khó khăn gặp phải:\n",
    "    - Việc tìm kiếm một bộ dữ liệu phù hợp để đặt câu hỏi\n",
    "    - Khá mơ hồ về việc đặt câu hỏi như thế nào\n",
    "    - Sử dụng git chưa thuần thục nên còn gặp phải khó khăn trong việc merge file notebook\n",
    "- Những điều học được:\n",
    "    - Hiểu biết thêm về regex, linux, git, python, những việc cần làm của 1 nhà khoa học dữ liệu\n",
    "    - Học được cách làm việc nhóm bằng git và github"
   ]
  },
  {
   "cell_type": "markdown",
   "id": "adee94dc-0040-44b6-9051-82545be99dc8",
   "metadata": {},
   "source": [
    "### Nguyễn Bá Minh\n",
    "- Những khó khăn gặp phải:\n",
    "    - Việc chọn lựa câu hỏi để vừa hợp lí vừa có được ý nghĩa gây nhiều khó khăn\n",
    "    - Sử dụng git chưa thuần thục nên có nhiều lúng túng\n",
    "- Những điều học được:\n",
    "    - Hiểu được cơ bản thế nào là 1 đồ án khoa học dữ liệu\n",
    "    - Học được cách sử dụng git giúp thuận tiện cho làm việc nhóm"
   ]
  },
  {
   "cell_type": "markdown",
   "id": "a62980eb-2f0c-420d-8022-841e77107296",
   "metadata": {},
   "source": [
    "### Những việc sẽ làm nếu có thêm thời gian\n",
    "- Tìm hiểu thêm về API của riot để thu thập lại bộ dữ liệu mới hơn do dữ liệu hiện có đã cũ\n",
    "- Trả lời các câu hỏi về phương hướng lên đồ cho các vị tướng khi đang thua để tăng tỉ lệ thắng"
   ]
  }
 ],
 "metadata": {
  "kernelspec": {
   "display_name": "Python 3 (ipykernel)",
   "language": "python",
   "name": "python3"
  },
  "language_info": {
   "codemirror_mode": {
    "name": "ipython",
    "version": 3
   },
   "file_extension": ".py",
   "mimetype": "text/x-python",
   "name": "python",
   "nbconvert_exporter": "python",
   "pygments_lexer": "ipython3",
   "version": "3.8.8"
  }
 },
 "nbformat": 4,
 "nbformat_minor": 5
}
