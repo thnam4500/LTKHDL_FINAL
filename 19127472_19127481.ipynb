{
 "cells": [
  {
   "cell_type": "markdown",
   "id": "9092bd26-534d-4120-a98e-3d47e9f05507",
   "metadata": {},
   "source": [
    "# ĐỒ ÁN CUỐI KỲ LẬP TRÌNH CHO KHOA HỌC DỮ LIỆU\n",
    "## THÀNH VIÊN\n",
    "|MÃ SỐ|HỌ TÊN|\n",
    "|:----:|:---:|\n",
    "|19127472|NGUYỄN BÁ MINH|\n",
    "|19127481|TRẦN HOÀNG NAM|"
   ]
  },
  {
   "cell_type": "code",
   "execution_count": null,
   "id": "c59ead62-24b2-4cd5-8818-2df202fef9c2",
   "metadata": {},
   "outputs": [],
   "source": [
    "import numpy as np\n",
    "import pandas as pd\n",
    "import matplotlib.pyplot as plt\n",
    "import re"
   ]
  },
  {
   "cell_type": "markdown",
   "id": "a9e504cb-2bb0-4704-bca4-d0ab996aa56c",
   "metadata": {},
   "source": [
    "## GIỚI THIỆU ĐỒ ÁN\n",
    "**Đề tài đồ án**: Tìm hiểu và phân tích những yếu tố trong 10 phút đầu của 1 trận đấu liên minh huyền thoại có ảnh hưởng như thế nào đến kết quả trận đấu\n",
    "- Dữ liệu các trận đấu được lấy ở [link này](https://www.kaggle.com/bobbyscience/league-of-legends-diamond-ranked-games-10-min)\n",
    "- Dữ liệu có License CC0: Public Domain\n",
    "- Dữ liệu gồm 1 file duy nhất là data.csv\n",
    "- Dữ liệu chứa thông tin của khoảng 10.000 trận đấu ở rank kim cương - cao thủ trong khoảng 10 phút đầu game\n",
    "- Dữ liệu 1 dòng là thông tin của đội xanh và đội đỏ, mỗi đội sẽ có 19 cột chứa thông tin, tổng có 38 cột và 1 cột bluewin là cột kết quả trận đấu, 1 cột id là id của trận đấu, id này có thể dùng để lấy thêm thông tin từ API của riot game, vậy có tất cả 40 cột\n",
    "\n",
    "### Đọc dữ liệu từ file data.csv và khám phá dữ liệu"
   ]
  },
  {
   "cell_type": "code",
   "execution_count": null,
   "id": "a3fd08f5-0049-4566-8dab-5e6901ce51b4",
   "metadata": {},
   "outputs": [],
   "source": [
    "data_df = pd.read_csv('data.csv')\n",
    "data_df.head()"
   ]
  },
  {
   "cell_type": "code",
   "execution_count": null,
   "id": "8053b9b1-1382-4fa9-86a6-87f1deee1a93",
   "metadata": {},
   "outputs": [],
   "source": [
    "data_df.info()"
   ]
  },
  {
   "cell_type": "code",
   "execution_count": null,
   "id": "2e5d9b9e-9ce4-4939-a003-baf17f890306",
   "metadata": {},
   "outputs": [],
   "source": [
    "data_df.shape"
   ]
  },
  {
   "cell_type": "markdown",
   "id": "02c5a39d-4d84-4f96-8fce-93e0ac99b5fe",
   "metadata": {},
   "source": [
    "#### Dữ liệu có bao nhiêu dòng, cột, có cột nào có dữ liệu thiếu không, có vấn đề gì với các cột không\n",
    "- Ta thấy rằng có chính xác 40 cột và 9.879 dòng, tức là khoảng 10.000 dòng như mô tả.\n",
    "- Xem xét sơ các cột, ta thấy rằng không có dữ liệu thiếu, không có vấn đề gì cả."
   ]
  },
  {
   "cell_type": "markdown",
   "id": "63a9a6e3-2f4e-4dce-ad2c-e93b85f2c111",
   "metadata": {},
   "source": [
    "#### Dữ liệu có bị lặp hay không"
   ]
  },
  {
   "cell_type": "code",
   "execution_count": null,
   "id": "66bc01b1-9f56-4a02-b783-001c7dd5790e",
   "metadata": {},
   "outputs": [],
   "source": [
    "np.any(data_df.duplicated())"
   ]
  },
  {
   "cell_type": "markdown",
   "id": "bdf515c2-c6cf-47fa-ac33-f68e369ef53a",
   "metadata": {},
   "source": [
    "### TÌM HIỂU VÀ PHÂN TÍCH"
   ]
  },
  {
   "cell_type": "markdown",
   "id": "0f06019c-cf35-47fa-9d25-60556b35e48d",
   "metadata": {},
   "source": [
    "#### NGUYỄN BÁ MINH"
   ]
  },
  {
   "cell_type": "markdown",
   "id": "11c54c00",
   "metadata": {},
   "source": [
    "Cần tập trung yếu tố trong 10 phút đầu game để giành được chiến thắng"
   ]
  },
  {
   "cell_type": "markdown",
   "id": "88d229be",
   "metadata": {},
   "source": [
    "Đầu tiên dễ nhìn thấy nhất là ta sẽ xem thử là lựa chọn màu đội có ảnh hưởng đến tỉ lệ thắng hay không(Trong game thì việc ở đội xanh hay đội đỏ sẽ ảnh hưởng đến việc được cấm chọn trước hay sau)"
   ]
  },
  {
   "cell_type": "code",
   "execution_count": null,
   "id": "4f8bea78",
   "metadata": {},
   "outputs": [],
   "source": [
    "blue = data_df['blueWins']\n",
    "# blue = 1 là thể hiện đội xanh thắng, blue = 0 là đội đỏ thắng\n",
    "games_count = data_df.shape[0]"
   ]
  },
  {
   "cell_type": "code",
   "execution_count": null,
   "id": "58837d21",
   "metadata": {},
   "outputs": [],
   "source": [
    "blue_win_rate = (len(data_df[blue == 1])/games_count) * 100\n",
    "y = [round(blue_win_rate,3),100-round(blue_win_rate,3)]\n",
    "x = ['Blue', 'Red']\n",
    "\n",
    "\n",
    "bars = plt.bar(x, height=y, width=.4)\n",
    "\n",
    "plt.xlabel('Team Color')\n",
    "plt.ylabel('Win Rate')\n",
    "\n",
    "for bar in bars:\n",
    "    yval = bar.get_height()\n",
    "    plt.text(bar.get_x()+0.1, yval + 0.5, f\"{yval}%\")\n",
    "\n",
    "plt.show()"
   ]
  },
  {
   "cell_type": "markdown",
   "id": "cd2e3626",
   "metadata": {},
   "source": [
    "Vậy có thể thấy là việc ở team màu nào không ảnh hưởng nhiều đến chiến thắng chung cuộc. "
   ]
  },
  {
   "cell_type": "markdown",
   "id": "b684cfdc",
   "metadata": {},
   "source": [
    "Tiếp đến ta sẽ đi vào những chỉ số cơ bản nhất của trò chơi đó là số mạng hạ gục, lượng vàng, lượng kinh nghiệm. Ta sẽ tìm hiểu xem sự chênh lệch những yếu tố này trong 10 phút đầu của trận đấu có ảnh hưởng nhiều đến tỉ lệ chiến thắng hay không"
   ]
  },
  {
   "cell_type": "code",
   "execution_count": null,
   "id": "fb362431",
   "metadata": {},
   "outputs": [],
   "source": [
    "blue_win_kill = (data_df[blue==1]['blueKills'] - data_df[blue==1]['redKills']) >0\n",
    "red_win_kill = (data_df[blue==0]['redKills'] - data_df[blue==0]['blueKills']) >0\n",
    "kill = (blue_win_kill .value_counts()[True] +red_win_kill.value_counts()[True])/games_count\n",
    "blue_win_exp_diff = (data_df[blue==1]['blueExperienceDiff']) >0\n",
    "red_win_exp_diff = (data_df[blue==0]['redExperienceDiff']) >0\n",
    "ExpDiff = (blue_win_exp_diff.value_counts()[True] + red_win_exp_diff.value_counts()[True])/games_count\n",
    "blue_win_gold_diff = (data_df[blue==1]['blueGoldDiff']) >0\n",
    "red_win_gold_diff = (data_df[blue==0]['redGoldDiff']) >0\n",
    "GoldDiff = (blue_win_gold_diff.value_counts()[True] + red_win_gold_diff.value_counts()[True])/games_count\n",
    "blue_win_first_blood = data_df[blue==1]['blueFirstBlood'].value_counts()[1]\n",
    "red_win_first_blood = data_df[blue==0]['redFirstBlood'].value_counts()[1]\n",
    "first_blood = (blue_win_first_blood + red_win_first_blood)/games_count *100\n",
    "\n",
    "x = ['First Blood', 'Kill', 'Experience', 'Gold']\n",
    "y = [round(first_blood,3), round(kill*100,3),round(ExpDiff*100,3), round(GoldDiff*100,3)]\n",
    "bars = plt.bar(x, height=y, width=.5, color='darkcyan')\n",
    "\n",
    "\n",
    "plt.ylabel('Win Rate')\n",
    "plt.title('So sánh tỉ lệ thắng khi hơn vàng, kinh nghiệm, mạng tiêu diệt')\n",
    "for bar in bars:\n",
    "    yval = bar.get_height()\n",
    "    plt.text(bar.get_x()+0.01, yval+0.5, f\"{yval}%\")\n",
    "\n",
    "plt.show()"
   ]
  },
  {
   "cell_type": "markdown",
   "id": "e0c8da44",
   "metadata": {},
   "source": [
    "Nhận xét: Có thể thấy cả 4 yếu tố đều ảnh hưởng đến tỉ lệ thắng nhưng tỉ lệ Experience và Gold khá vượt trội so với Kill và First Blood. Vậy có thể thấy là trong 10 phút đầu tiên thì việc có được First Blood(mạng hạ gục đầu tiên trong trận đấu) hay chênh lệch Kill có ảnh hưởng đến tỉ lệ thắng nhưng tầm quan trọng của chúng không bằng so với Experience và Gold vì vậy Experience và Gold là 2 yếu tố nên được ưu tiên hơn trong 10 phút đầu của trận đấu."
   ]
  },
  {
   "cell_type": "markdown",
   "id": "c6762cf2",
   "metadata": {},
   "source": [
    "Tiếp đến sẽ là những yếu tố ít được tập trung vào hơn khi nhắc đến 1 trò chơi."
   ]
  },
  {
   "cell_type": "code",
   "execution_count": null,
   "id": "a74429fd",
   "metadata": {},
   "outputs": [],
   "source": [
    "blue_win_ward_placed = (data_df[blue==1]['blueWardsPlaced'] - data_df[blue==1]['redWardsPlaced']) > 0\n",
    "red_win_ward_placed = (data_df[blue==0]['redWardsPlaced'] - data_df[blue==0]['blueWardsPlaced']) > 0\n",
    "ward_placed = (red_win_ward_placed.value_counts()[True] + blue_win_ward_placed.value_counts()[True])/games_count\n",
    "\n",
    "blue_win_ward_destroyed = (data_df[blue==1]['blueWardsDestroyed'] - data_df[blue==1]['redWardsDestroyed']) > 0\n",
    "red_win_ward_destroyed = (data_df[blue==0]['redWardsDestroyed'] - data_df[blue==0]['blueWardsDestroyed']) > 0\n",
    "ward_destroyed = (red_win_ward_destroyed.value_counts()[True] + blue_win_ward_destroyed.value_counts()[True])/games_count\n",
    "\n",
    "blue_win_CSPerMin = (data_df[blue==1]['blueCSPerMin'] - data_df[blue==1]['redCSPerMin']) > 0\n",
    "red_win_CSPerMin = (data_df[blue==0]['redCSPerMin'] - data_df[blue==0]['blueCSPerMin']) > 0\n",
    "CSPerMin = (red_win_CSPerMin.value_counts()[True] + blue_win_CSPerMin.value_counts()[True])/games_count\n",
    "\n",
    "blue_win_TotalJungleMinionsKilled = (data_df[blue==1]['blueTotalJungleMinionsKilled'] - data_df[blue==1]['redTotalJungleMinionsKilled']) > 0\n",
    "red_win_TotalJungleMinionsKilled = (data_df[blue==0]['redTotalJungleMinionsKilled'] - data_df[blue==0]['blueTotalJungleMinionsKilled']) > 0\n",
    "TotalJungleMinionsKilled = (red_win_TotalJungleMinionsKilled.value_counts()[True] + blue_win_TotalJungleMinionsKilled.value_counts()[True])/games_count\n",
    "\n",
    "x = ['Ward Placed', 'Ward Destroyed', 'CSPerMin', 'Jungle Minions']\n",
    "y = [round(ward_placed*100,3), round(ward_destroyed*100,3),round(CSPerMin*100,3), round(TotalJungleMinionsKilled*100,3)]\n",
    "bars = plt.bar(x, height=y, width=.5, color='green')\n",
    "\n",
    "\n",
    "plt.ylabel('Win Rate')\n",
    "plt.title('Tỉ lệ thắng khi chênh lệch các yếu tố: Số mắt cắm, số mắt phá hủy, lính theo phút, quái rừng')\n",
    "for bar in bars:\n",
    "    yval = bar.get_height()\n",
    "    plt.text(bar.get_x()+0.01, yval+0.5, f\"{yval}%\")\n",
    "\n"
   ]
  },
  {
   "cell_type": "markdown",
   "id": "1346a8ec",
   "metadata": {},
   "source": [
    "Có thể thấy là chỉ số CSPerMin và JungleMinions rất quan trọng và có ảnh hưởng nhiều đến trận đấu, chỉ số WardPlaced và WardDestroyed có ảnh hưởng nhưng có lẽ là trong 10 phút đầu của trận đấu nên ưu tiên các chỉ số kia hơn"
   ]
  },
  {
   "cell_type": "code",
   "execution_count": null,
   "id": "41097dd2",
   "metadata": {},
   "outputs": [],
   "source": [
    "blue_win_dragon = (data_df[blue==1]['blueDragons'] - data_df[blue==1]['redDragons']) > 0\n",
    "red_win_dragon = (data_df[blue==0]['redDragons'] - data_df[blue==0]['blueDragons']) > 0\n",
    "red_dragon = red_win_dragon.value_counts()[True]/games_count\n",
    "blue_dragon = blue_win_dragon.value_counts()[True]/games_count\n",
    "\n",
    "blue_win_herald = (data_df[blue==1]['blueHeralds'] - data_df[blue==1]['redHeralds']) > 0\n",
    "red_win_herald = (data_df[blue==0]['redHeralds'] - data_df[blue==0]['blueHeralds']) > 0\n",
    "red_herald = red_win_herald.value_counts()[True]/games_count\n",
    "blue_herald = blue_win_herald.value_counts()[True]/games_count\n",
    "\n",
    "red_stat = [round(red_dragon*100,3), round(red_herald*100,3)]\n",
    "blue_stat = [round(blue_dragon*100,3), round(blue_herald*100,3)]\n",
    "x = ['Dragon', 'Herald']\n",
    "xpos = np.arange(2)\n",
    "plt.xticks(xpos, x)\n",
    "bars1 = plt.bar(xpos+.2, red_stat, color='firebrick', width=.4, label=\"red\")\n",
    "for bar in bars1:\n",
    "    yval = bar.get_height()\n",
    "    plt.text(bar.get_x()+0.07, yval+0.25, f\"{yval}%\")\n",
    "bars2 = plt.bar(xpos-.2, blue_stat, color='mediumblue', width=.4, label=\"blue\")\n",
    "for bar in bars2:\n",
    "    yval = bar.get_height()\n",
    "    plt.text(bar.get_x()+0.07, yval+0.5, f\"{yval}%\")\n",
    "plt.legend()\n",
    "plt.title(\"Tỉ lệ thắng khi chênh lệch Dragon và Herald ở đội xanh và đội đỏ\")\n",
    "plt.show()"
   ]
  },
  {
   "cell_type": "markdown",
   "id": "614b16c8",
   "metadata": {},
   "source": [
    "Có 2 chỉ số khá thú vị và chênh lệch khá rõ là chỉ số Dragon và Herald và từ đó có thể thấy là khi ở đội đỏ nên ưu tiên tiêu diệt Dragon còn ở đội xanh thì tiêu diệt Herald (Có lẽ là do vị trí của Dragon và Herald trên bản đồ tác động đến việc lựa chọn tiêu diệt mục tiêu nào)"
   ]
  },
  {
   "cell_type": "code",
   "execution_count": null,
   "id": "e3266923",
   "metadata": {},
   "outputs": [],
   "source": [
    "categories = ['First Blood', 'Kill', 'Experience', 'Gold', 'Ward Placed', 'Ward Destroyed', 'CSPerMin', 'Jungle Minions', 'First Blood']\n",
    "vehicle = [round(first_blood,3), round(kill*100,3),round(ExpDiff*100,3), round(GoldDiff*100,3), round(ward_placed*100,3), round(ward_destroyed*100,3),round(CSPerMin*100,3), round(TotalJungleMinionsKilled*100,3), round(first_blood,3)]\n",
    "placement = np.linspace(start=0, stop=2*np.pi, num=len(vehicle))\n",
    "plt.figure(figsize=(6,6))\n",
    "plt.subplot(polar=True)\n",
    "plt.plot(placement, vehicle)\n",
    "lines, labels = plt.thetagrids(np.degrees(placement), labels=categories)\n",
    "plt.ylim([0,100])\n",
    "plt.title(\"So sánh tầm quan trọng của các yếu tố ảnh hưởng đến chiến thắngkhi có được sự chênh lệch trong 10 phút đầu trận đấu\")\n",
    "plt.show()"
   ]
  },
  {
   "cell_type": "markdown",
   "id": "61a7bbbf",
   "metadata": {},
   "source": [
    "Kết luận: Vậy dựa vào các phân tích trên có thể trả lời câu hỏi đặt ra ban đầu là các yếu tố cần phải tập trung nhiều hơn trong 10 phút đầu để giành chiến thắng trong 1 trận đấu liên minh huyền thoại là Kill, Experience và Gold. \n",
    "Tất nhiên tất cả yếu tố trên đều quan trọng và không nên chỉ tập trung vào 3 yếu tố đó mà bỏ quên những yếu tố khác."
   ]
  },
  {
   "cell_type": "markdown",
   "id": "b2a32611-a9a1-408a-bd28-73749dc3724a",
   "metadata": {},
   "source": [
    "#### TRẦN HOÀNG NAM\n",
    "##### Câu hỏi 1: Nếu chúng ta thua gold hay exp trong 10' phút đầu thì liệu chúng ta có cơ hội chiến thắng trận đấu hay không? \n",
    "Nếu trả lời được câu hỏi này, chúng ta sẽ biết được nên giữ cho khoảng cách exp và gold cách biệt ở mức nào để có khả năng lật ngược ván đấu, cũng như cách biệt như thế nào thì khả năng thắng của chúng ta chắc chắn hơn"
   ]
  },
  {
   "cell_type": "markdown",
   "id": "c5b2adbf-bbb4-436d-8b11-9a4895c643e2",
   "metadata": {},
   "source": [
    "Chúng ta sẽ xem xét sơ qua tỉ lệ thắng thua giữa 2 đội trong bộ dữ liệu xem có sự chênh lệch hay không"
   ]
  },
  {
   "cell_type": "code",
   "execution_count": null,
   "id": "2496064d-8c49-43e9-83c8-fc1cc1b05e41",
   "metadata": {},
   "outputs": [],
   "source": [
    "blue_win_percent = (data_df['blueWins']==1).mean()*100\n",
    "red_win_percent = 100 - blue_win_percent\n",
    "plt.pie([blue_win_percent,red_win_percent],labels=['blue_win','red_win'],autopct='%1.1f%%')\n",
    "plt.show()"
   ]
  },
  {
   "cell_type": "markdown",
   "id": "87650dd4-bf61-4020-b2d4-730484e5bc08",
   "metadata": {},
   "source": [
    "**Nhận xét**: Có vẻ tỉ lệ thắng thua giữa 2 bên có khá là cân bằng, không có vấn đề gì nếu giải quyết câu hỏi trên tập dữ liệu này"
   ]
  },
  {
   "cell_type": "markdown",
   "id": "2dd1510f-1b17-4659-8a34-f26a6edd0d15",
   "metadata": {},
   "source": [
    "Đầu tiên, chúng ta sẽ lọc ra những attribute của đội xanh và đỏ và lưu chúng vào 2 biến **red_att** and **blue_att**"
   ]
  },
  {
   "cell_type": "code",
   "execution_count": null,
   "id": "f877f519-e67f-4f5b-bd94-416f85d5f820",
   "metadata": {},
   "outputs": [],
   "source": [
    "blue_att = [x for x in data_df.keys() if 'blue' in x]\n",
    "blue_att.remove('blueWins')\n",
    "red_att = [x for x in data_df.keys() if 'red' in x]"
   ]
  },
  {
   "cell_type": "markdown",
   "id": "a7883f0e-61dd-4f0a-a47b-d5d0ec3715ef",
   "metadata": {},
   "source": [
    "Chúng ta sẽ viết hàm để tính giá trị trung bình, độ lệch chuẩn của exp, gold "
   ]
  },
  {
   "cell_type": "code",
   "execution_count": null,
   "id": "58e6039a-6f3c-4f00-94bf-1bc2e96a476e",
   "metadata": {},
   "outputs": [],
   "source": [
    "def mean_std(data,team='blue'):\n",
    "    mean_exp = data[team+'TotalExperience'].mean()\n",
    "    std_exp = data[team+'TotalExperience'].std()\n",
    "    mean_gold = data[team+'TotalGold'].mean()\n",
    "    std_gold = data[team+'TotalGold'].std()\n",
    "    return mean_exp, std_exp, mean_gold, std_gold"
   ]
  },
  {
   "cell_type": "markdown",
   "id": "3e38daeb-5c9e-4017-a2b3-387165967664",
   "metadata": {},
   "source": [
    "Hàm std_range_percent sẽ làm các việc sau đây:\n",
    "- Chuyển gold, exp về dạng z-score\n",
    "- Lọc ra nhưng mẫu có z-score thuộc khoảng (std_start, std_end]\n",
    "- Tính tỉ lệ thắng của các mẫu đó"
   ]
  },
  {
   "cell_type": "code",
   "execution_count": null,
   "id": "3087eeb4-851c-43c2-a76a-b2286ca03e4d",
   "metadata": {},
   "outputs": [],
   "source": [
    "def std_range_percent(data,range_std_start,range_std_end,team='blue'):\n",
    "    mean_exp, std_exp, mean_gold, std_gold = mean_std(data,team)\n",
    "    data['z_score_'+team+'_exp'] = (data[team+'TotalExperience'] - mean_exp)/std_exp\n",
    "    data['z_score_'+team+'_gold'] = (data[team+'TotalGold'] - mean_gold)/std_gold\n",
    "    data_exp = data[((data['z_score_'+team+'_exp']>range_std_start)&(data['z_score_'+team+'_exp']<=range_std_end))]\n",
    "    data_gold = data[(data['z_score_'+team+'_gold']>range_std_start)&(data['z_score_'+team+'_gold']<=range_std_end)]\n",
    "    if team == 'blue':\n",
    "        return (data_exp['blueWins']==1).mean()*100, (data_gold['blueWins']==1).mean()*100\n",
    "    else:\n",
    "        return (data_exp['blueWins']==0).mean()*100, (data_gold['blueWins']==0).mean()*100"
   ]
  },
  {
   "cell_type": "markdown",
   "id": "440d2065-9df8-4b8a-9a96-115797a859a8",
   "metadata": {},
   "source": [
    "Ở đây, chúng ta sẽ xem xét nếu lượng exp, gold chêch khỏi độ lệch bao nhiêu thì vẫn có khả năng gỡ lại"
   ]
  },
  {
   "cell_type": "code",
   "execution_count": null,
   "id": "6bf7b51c-eaaf-40a7-980f-1dc42aae52c1",
   "metadata": {},
   "outputs": [],
   "source": [
    "std_check=[[-3,-2],[-2,-1],[-1,0],[0,1],[1,2],[2,3]]"
   ]
  },
  {
   "cell_type": "code",
   "execution_count": null,
   "id": "c4e72374-8d46-402b-b576-a1233f92b68b",
   "metadata": {},
   "outputs": [],
   "source": [
    "blue_win_percent_by_exp = []\n",
    "blue_win_percent_by_gold = []\n",
    "red_win_percent_by_exp = []\n",
    "red_win_percent_by_gold = []\n",
    "for x in std_check:\n",
    "    win_exp, win_gold = std_range_percent(data_df,x[0],x[1],team='blue')\n",
    "    blue_win_percent_by_exp.append(win_exp)\n",
    "    blue_win_percent_by_gold.append(win_gold)\n",
    "    win_exp, win_gold = std_range_percent(data_df,x[0],x[1],team='red')\n",
    "    red_win_percent_by_exp.append(win_exp)\n",
    "    red_win_percent_by_gold.append(win_gold)"
   ]
  },
  {
   "cell_type": "markdown",
   "id": "1e40baf1-ee0d-4c24-944d-9395b6b18323",
   "metadata": {},
   "source": [
    "Block này chỉ dùng để tiện cho việc rename lại index các dòng"
   ]
  },
  {
   "cell_type": "code",
   "execution_count": null,
   "id": "32bb571e-7eab-499a-af05-cf2190c801e5",
   "metadata": {},
   "outputs": [],
   "source": [
    "range_std_list = {}\n",
    "for x in range(0,len(std_check)):\n",
    "    range_std_list[x]=std_check[x]"
   ]
  },
  {
   "cell_type": "markdown",
   "id": "db60e078-5c18-46e1-95f5-57b3224fc5d9",
   "metadata": {},
   "source": [
    "- Chúng ta sẽ tiến hành tạo dataframe cho 4 kết quả vừa thu được ở trên, các list dữ liệu ở trên chỉ là tỉ lệ thắng, chúng ta sẽ tính cả tỉ lệ thua bằng cách lấy 100 - tỉ lệ thắng lưu vào 1 cột gọi là lose by exp, lose by gold trong các dataframe tương ứng\n",
    "- Do 1 trận đấu chúng ta có 2 gồm đội xanh và đội đỏ, vì thế nên chúng ta sẽ phải tạo ra 4 dataframe gồm:\n",
    "    - "
   ]
  },
  {
   "cell_type": "code",
   "execution_count": null,
   "id": "a9e03c92-7294-4753-87d9-621f2c8ccdc9",
   "metadata": {},
   "outputs": [],
   "source": [
    "#Tạo dataframe mục đích cho việc xem xét các thông số\n",
    "blue_win_percent_by_exp = pd.DataFrame(blue_win_percent_by_exp)\n",
    "blue_win_percent_by_exp = blue_win_percent_by_exp.rename(columns={0:'win rate calculate by exp'})\n",
    "blue_win_percent_by_exp = blue_win_percent_by_exp.rename(index=range_std_list)\n",
    "blue_win_percent_by_exp['lose rate calculate by exp'] = 100 - blue_win_percent_by_exp['win rate calculate by exp'] \n",
    "\n",
    "blue_win_percent_by_gold = pd.DataFrame(blue_win_percent_by_gold)\n",
    "blue_win_percent_by_gold = blue_win_percent_by_gold.rename(columns={0:'win rate calculate by gold'})\n",
    "blue_win_percent_by_gold = blue_win_percent_by_gold.rename(index=range_std_list)\n",
    "blue_win_percent_by_gold['lose rate calculate by gold'] = 100 - blue_win_percent_by_gold['win rate calculate by gold'] \n",
    "\n",
    "red_win_percent_by_exp = pd.DataFrame(red_win_percent_by_exp)\n",
    "red_win_percent_by_exp = red_win_percent_by_exp.rename(columns={0:'win rate calculate by exp'})\n",
    "red_win_percent_by_exp = red_win_percent_by_exp.rename(index=range_std_list)\n",
    "red_win_percent_by_exp['lose rate calculate by exp'] = 100 - red_win_percent_by_exp['win rate calculate by exp'] \n",
    "\n",
    "red_win_percent_by_gold = pd.DataFrame(red_win_percent_by_gold)\n",
    "red_win_percent_by_gold = red_win_percent_by_gold.rename(columns={0:'win rate calculate by gold'})\n",
    "red_win_percent_by_gold = red_win_percent_by_gold.rename(index=range_std_list)\n",
    "red_win_percent_by_gold['lose rate calculate by gold'] = 100 - red_win_percent_by_gold['win rate calculate by gold'] "
   ]
  },
  {
   "cell_type": "code",
   "execution_count": null,
   "id": "9f89b991-1a6a-41eb-be3d-be4519b30288",
   "metadata": {},
   "outputs": [],
   "source": [
    "blue_win_percent_by_exp"
   ]
  },
  {
   "cell_type": "code",
   "execution_count": null,
   "id": "12542a51-d528-498a-856e-e4b85988cf6f",
   "metadata": {},
   "outputs": [],
   "source": [
    "blue_win_percent_by_gold"
   ]
  },
  {
   "cell_type": "code",
   "execution_count": null,
   "id": "9b0288d7-8ca7-49e6-987f-99330d125e27",
   "metadata": {},
   "outputs": [],
   "source": [
    "red_win_percent_by_exp"
   ]
  },
  {
   "cell_type": "code",
   "execution_count": null,
   "id": "73d4b374-5bcf-48f3-a54b-84765bb6cf3f",
   "metadata": {},
   "outputs": [],
   "source": [
    "red_win_percent_by_gold"
   ]
  },
  {
   "cell_type": "markdown",
   "id": "e15263a9-10a5-4585-bd34-9cf26dd74408",
   "metadata": {},
   "source": [
    "Để cho dễ nhìn, chúng ta sẽ trực quan hoá hết 4 table trên bằng stackbarchart"
   ]
  },
  {
   "cell_type": "code",
   "execution_count": null,
   "id": "39e4c7a6-d779-4209-9e4e-74b522570173",
   "metadata": {},
   "outputs": [],
   "source": [
    "blue_win_percent_by_exp.plot(kind='barh',stacked=True)\n",
    "plt.axvline(50,color='red')\n",
    "plt.ylabel('std range')\n",
    "plt.xlabel('percent')\n",
    "plt.title('blue win rate calculate by exp std')\n",
    "blue_win_percent_by_gold.plot(kind='barh',stacked=True)\n",
    "plt.axvline(50,color='red')\n",
    "plt.ylabel('std range')\n",
    "plt.title('blue win rate calculate by gold std')\n",
    "plt.xlabel('percent')\n",
    "plt.show()"
   ]
  },
  {
   "cell_type": "code",
   "execution_count": null,
   "id": "6db6d50c-e3ba-4d48-bbd2-3c878630bc12",
   "metadata": {},
   "outputs": [],
   "source": [
    "red_win_percent_by_exp.plot(kind='barh',stacked=True)\n",
    "plt.axvline(50,color='red')\n",
    "plt.ylabel('std range')\n",
    "plt.xlabel('percent')\n",
    "plt.title('red win rate calculate by exp std')\n",
    "red_win_percent_by_gold.plot(kind='barh',stacked=True)\n",
    "plt.axvline(50,color='red')\n",
    "plt.ylabel('std range')\n",
    "plt.xlabel('percent')\n",
    "plt.title('red win rate calculate by gold std')\n",
    "plt.show()"
   ]
  },
  {
   "cell_type": "markdown",
   "id": "4df01ca9-6dc3-4a4a-9562-4287ed4aa662",
   "metadata": {},
   "source": [
    "**Nhận xét**: Nhìn chung, với sự chênh lệch về gold và exp càng cao thì tỉ lệ tách biệt thắng thua sẽ càng cao, nhưng theo biểu đồ trên, chúng ta dễ dàng nhận thấy, độ chêck trong khoản từ -1 cho đến 1 độ lệch chuẩn của gold và exp thì tỉ lệ thắng thua chỉ là khoảng 40-60 hoặc ngược lại,tính ra không quá chênh lệch với tỉ lệ thắng thua ngẫu nhiên là 50%, và nếu so tỉ lệ thắng của đội xanh,đỏ trong mẫu dữ liệu ban đầu thì cũng không chênh lệch quá nhiều, nhưng từ 1 đến 2 lại thì tỉ lệ thắng thua  lại tăng thêm hẳn 20%, nghĩa là để lật ngược 1 ván đấu, thì chúng ta cần giữ cho độ chênh về gold và exp không vượt quá 1 độ lệch chuẩn thì vẫn còn đủ khả năng để thắng ngược, tuy nhiên dù cho độ chênh lệch có cao thế nào thì vẫn không chắc chắn việc thắng thua hoàn toàn được, vẫn có khoảng 10% tỉ lệ thắng khi sự chênh lệch tầm khoảng 2 đến 3 độ lệch chuẩn, có vẻ ngoài gold và exp thì vẫn có những yếu tố khác ảnh hưởng, hoặc cũng có thể sau khi qua 10' đầu của trận đấu thì độ lệch này đã được thay đổi, chúng ta sẽ xem xét đến các mục tiêu lớn"
   ]
  },
  {
   "cell_type": "markdown",
   "id": "85dd4892-a230-4ee1-b596-261dcf556a9d",
   "metadata": {},
   "source": [
    "##### Câu hỏi 2: Khi ăn các mục tiêu lớn thì khả năng thắng tăng như thế nào?"
   ]
  },
  {
   "cell_type": "markdown",
   "id": "25f2f2bc-337c-43a7-97bd-c72949712e7d",
   "metadata": {},
   "source": [
    "<p>Có 2 mục tiêu lớn mà chúng ta cần quan tâm là rồng và sứ giả, tạm thời chúng ta sẽ xem xét dragon trước</p>\n",
    "Chúng ta sẽ lọc ra những trận đấu mà đội đỏ ăn rồng và đội xanh ăn rồng, sau đó lưu vào 2 biến <b>red_dragon</b> và <b>blue_dragon</b>"
   ]
  },
  {
   "cell_type": "code",
   "execution_count": null,
   "id": "e687b499-2731-4edb-a729-3ee7a39daa63",
   "metadata": {},
   "outputs": [],
   "source": [
    "red_dragon = (data_df[data_df['redDragons']!=0]).copy()\n",
    "blue_dragon = (data_df[(data_df['blueDragons']!=0)]).copy()"
   ]
  },
  {
   "cell_type": "markdown",
   "id": "16e216bd-a73a-479e-aff1-d66a79c08b91",
   "metadata": {},
   "source": [
    "Chúng ta sẽ tính tỉ lệ thắng đối với các đội ăn được rồng"
   ]
  },
  {
   "cell_type": "code",
   "execution_count": null,
   "id": "f0335211-d3f7-499a-931f-e338a6c20492",
   "metadata": {},
   "outputs": [],
   "source": [
    "red_dragon_wins = (red_dragon[\"blueWins\"]==0).mean()*100\n",
    "blue_dragon_wins = (blue_dragon[\"blueWins\"]==1).mean()*100\n",
    "print(f'Tỉ lệ thắng của đội xanh khi ăn rồng là: {blue_dragon_wins:<.2f}%')\n",
    "print(f'Tỉ lệ thắng của đội đỏ khi ăn rồng là: {red_dragon_wins:<.2f}%')"
   ]
  },
  {
   "cell_type": "markdown",
   "id": "3b4a5c67-166c-4d08-88aa-11c28e3db89f",
   "metadata": {},
   "source": [
    "Tương tự như ở **câu hỏi 1**, chúng ta sẽ tính tỉ lệ thắng dựa trên gold và exp bằng 2 bộ dữ liệu đã lọc ra là **blue_dragon** và **red_dragon**"
   ]
  },
  {
   "cell_type": "code",
   "execution_count": null,
   "id": "1f425a81-c22d-49af-9cd9-5bd607656c5d",
   "metadata": {},
   "outputs": [],
   "source": [
    "std_check = [[-3,-2],[-2,-1],[-1,0],[0,1],[1,2],[2,3]]\n",
    "blue_win_percent_by_exp = []\n",
    "blue_win_percent_by_gold = []\n",
    "red_win_percent_by_exp = []\n",
    "red_win_percent_by_gold = []\n",
    "for x in std_check:\n",
    "    win_rate_by_exp_std, win_rate_by_gold_std = std_range_percent(blue_dragon,x[0],x[1])\n",
    "    blue_win_percent_by_exp.append(win_rate_by_exp_std)\n",
    "    blue_win_percent_by_gold.append(win_rate_by_gold_std)\n",
    "    win_rate_by_exp_std, win_rate_by_gold_std = std_range_percent(red_dragon,x[0],x[1],team='red')\n",
    "    red_win_percent_by_exp.append(win_rate_by_exp_std)\n",
    "    red_win_percent_by_gold.append(win_rate_by_gold_std)"
   ]
  },
  {
   "cell_type": "code",
   "execution_count": null,
   "id": "dd4ca4d9-a7f9-466e-98b8-0b7e370c3cf9",
   "metadata": {},
   "outputs": [],
   "source": [
    "blue_win_percent_by_exp = pd.DataFrame(blue_win_percent_by_exp)\n",
    "blue_win_percent_by_exp = blue_win_percent_by_exp.rename(columns={0:'win rate calculate by exp'})\n",
    "blue_win_percent_by_exp = blue_win_percent_by_exp.rename(index=range_std_list)\n",
    "blue_win_percent_by_exp['lose rate calculate by exp'] = 100 - blue_win_percent_by_exp['win rate calculate by exp'] \n",
    "\n",
    "blue_win_percent_by_gold = pd.DataFrame(blue_win_percent_by_gold)\n",
    "blue_win_percent_by_gold = blue_win_percent_by_gold.rename(columns={0:'win rate calculate by gold'})\n",
    "blue_win_percent_by_gold = blue_win_percent_by_gold.rename(index=range_std_list)\n",
    "blue_win_percent_by_gold['lose rate calculate by gold'] = 100 - blue_win_percent_by_gold['win rate calculate by gold'] \n",
    "\n",
    "red_win_percent_by_exp = pd.DataFrame(red_win_percent_by_exp)\n",
    "red_win_percent_by_exp = red_win_percent_by_exp.rename(columns={0:'win rate calculate by exp'})\n",
    "red_win_percent_by_exp = red_win_percent_by_exp.rename(index=range_std_list)\n",
    "red_win_percent_by_exp['lose rate calculate by exp'] = 100 - red_win_percent_by_exp['win rate calculate by exp'] \n",
    "\n",
    "red_win_percent_by_gold = pd.DataFrame(red_win_percent_by_gold)\n",
    "red_win_percent_by_gold = red_win_percent_by_gold.rename(columns={0:'win rate calculate by gold'})\n",
    "red_win_percent_by_gold = red_win_percent_by_gold.rename(index=range_std_list)\n",
    "red_win_percent_by_gold['lose rate calculate by gold'] = 100 - red_win_percent_by_gold['win rate calculate by gold'] "
   ]
  },
  {
   "cell_type": "code",
   "execution_count": null,
   "id": "19d4941d-645d-47f5-85fa-1890a3cb20a8",
   "metadata": {},
   "outputs": [],
   "source": [
    "blue_win_percent_by_exp"
   ]
  },
  {
   "cell_type": "code",
   "execution_count": null,
   "id": "ed7273c9-f56c-4310-b121-a754ee95cef7",
   "metadata": {},
   "outputs": [],
   "source": [
    "blue_win_percent_by_gold"
   ]
  },
  {
   "cell_type": "code",
   "execution_count": null,
   "id": "47a5f929-7f8b-4986-888d-7b88baf35d31",
   "metadata": {},
   "outputs": [],
   "source": [
    "red_win_percent_by_exp"
   ]
  },
  {
   "cell_type": "code",
   "execution_count": null,
   "id": "24c42f02-7a15-4ac7-aebe-75500dca6caf",
   "metadata": {},
   "outputs": [],
   "source": [
    "red_win_percent_by_gold"
   ]
  },
  {
   "cell_type": "code",
   "execution_count": null,
   "id": "d7bf65b2-c5fc-4afd-8e85-2250df8ec5dc",
   "metadata": {},
   "outputs": [],
   "source": [
    "blue_win_percent_by_exp.plot(kind='barh',stacked=True)\n",
    "plt.axvline(50,color='red')\n",
    "plt.ylabel('std range')\n",
    "plt.xlabel('percent')\n",
    "plt.title('blue win rate calculate by exp std')\n",
    "blue_win_percent_by_gold.plot(kind='barh',stacked=True)\n",
    "plt.axvline(50,color='red')\n",
    "plt.ylabel('std range')\n",
    "plt.xlabel('percent')\n",
    "plt.title('blue win rate calculate by gold std')\n",
    "plt.show()"
   ]
  },
  {
   "cell_type": "code",
   "execution_count": null,
   "id": "b4ae8a42-8112-49cf-9131-701c8d8ff36b",
   "metadata": {},
   "outputs": [],
   "source": [
    "red_win_percent_by_exp.plot(kind='barh',stacked=True)\n",
    "plt.axvline(50,color='red')\n",
    "plt.ylabel('std range')\n",
    "plt.xlabel('percent')\n",
    "plt.title('red win rate calculate by exp std')\n",
    "red_win_percent_by_gold.plot(kind='barh',stacked=True)\n",
    "plt.axvline(50,color='red')\n",
    "plt.ylabel('std range')\n",
    "plt.xlabel('percent')\n",
    "plt.title('red win rate calculate by gold std')\n",
    "plt.show()"
   ]
  },
  {
   "cell_type": "markdown",
   "id": "fb17c47c-191c-4109-a771-b09fdb3a0787",
   "metadata": {},
   "source": [
    "**Nhận xét**: so sánh 4 biểu đồ ở câu 1 với 4 biểu đồ trên, chúng ta nhận thấy tỉ lệ thắng khi ăn rồng đã tăng lên đáng kể, ngay cả khi vàng và exp thua đối thủ khoảng 1 đến 2 độ lệch chuẩn thì tỉ lệ thắng vẫn hơn 30%, nếu chỉ thua trong tầm khoảng 0-1 độ lệch chuẩn thì tỉ lệ thắng lại hơn 50%, nếu không ăn rồng thì 2 con số này chỉ tầm 20% và 40% như phần biểu đồ trong **câu hỏi 1**"
   ]
  },
  {
   "cell_type": "markdown",
   "id": "990fe969-ddcd-457c-9733-3bd6b4235799",
   "metadata": {},
   "source": [
    "Tóm lại, khi đang trong thế thua của 1 ván đấu, nhất là về exp và gold thì bạn cần tập trung vào mục tiêu lớn là rồng, việc ăn rồng có thể bù đắp được việc thua về lượng exp và gold nhận được ở trong khoảng chêch lệch 1 độ lệch chuẩn"
   ]
  },
  {
   "cell_type": "markdown",
   "id": "8a071329-8392-41c6-b512-c60b5b300256",
   "metadata": {},
   "source": [
    "Còn 1 mục tiêu lớn còn lại là sứ giả, trong 1 trận đấu, **giả sử đội bạn đang ăn rồng, thì chúng ta nên ăn sứ giả, hay là tham gia tranh chấp rồng?**"
   ]
  },
  {
   "cell_type": "markdown",
   "id": "920f6d87-7f80-4fbb-b953-d655772a0ff7",
   "metadata": {},
   "source": [
    "Tương tự như phần trên, chúng ta sẽ lọc ra các trận đội xanh, đỏ ăn sứ giả và lưu vào biến **blue_herald** và **red_herald**"
   ]
  },
  {
   "cell_type": "code",
   "execution_count": null,
   "id": "43bbe1a3-e4f0-46a1-9757-50ee7ae0a933",
   "metadata": {},
   "outputs": [],
   "source": [
    "blue_herald = (data_df[data_df['blueHeralds']!=0]).copy()\n",
    "red_herald = (data_df[data_df['redHeralds']!=0]).copy()"
   ]
  },
  {
   "cell_type": "markdown",
   "id": "6cd7ad25-5533-4912-990f-e8337612ae17",
   "metadata": {},
   "source": [
    "Dễ dàng chúng ta tính được tỉ lệ thắng của các đội chọn ăn sứ giả là"
   ]
  },
  {
   "cell_type": "code",
   "execution_count": null,
   "id": "a5bf2f89-40f5-4603-9a8d-6a492a09367f",
   "metadata": {},
   "outputs": [],
   "source": [
    "print(f'Tỉ lệ thắng của đội xanh khi ăn sứ giả là: {(blue_herald[\"blueWins\"]==1).mean()*100:<.2f}')\n",
    "print(f'Tỉ lệ thắng của đội đỏ khi ăn sứ giả là: {(red_herald[\"blueWins\"]==0).mean()*100:<.2f}')"
   ]
  },
  {
   "cell_type": "markdown",
   "id": "87f31484-1306-4748-b943-84ffcaa46d95",
   "metadata": {},
   "source": [
    "**Nhận xét**: Có vẻ như tỉ lệ thắng của các đội chọn ăn sứ giả thấp hơn là các đội chọn ăn rồng ở 10' đầu trận đấu, nhưng tỉ lệ chêch lệch chỉ khoảng 5%, chúng ta có thể tạm chấp nhận được"
   ]
  },
  {
   "cell_type": "code",
   "execution_count": null,
   "id": "b405573d-37c3-4426-97c3-0cfb27a63457",
   "metadata": {},
   "outputs": [],
   "source": [
    "std_check = [[-3,-2],[-2,-1],[-1,0],[0,1],[1,2],[2,3]]\n",
    "blue_win_percent_by_exp = []\n",
    "blue_win_percent_by_gold = []\n",
    "red_win_percent_by_exp = []\n",
    "red_win_percent_by_gold = []\n",
    "for x in std_check:\n",
    "    win_rate_by_exp_std, win_rate_by_gold_std = std_range_percent(blue_herald,x[0],x[1])\n",
    "    blue_win_percent_by_exp.append(win_rate_by_exp_std)\n",
    "    blue_win_percent_by_gold.append(win_rate_by_gold_std)\n",
    "    win_rate_by_exp_std, win_rate_by_gold_std = std_range_percent(red_herald,x[0],x[1],team='red')\n",
    "    red_win_percent_by_exp.append(win_rate_by_exp_std)\n",
    "    red_win_percent_by_gold.append(win_rate_by_gold_std)"
   ]
  },
  {
   "cell_type": "code",
   "execution_count": null,
   "id": "10433b6d-0362-48a3-8714-ffaff90747f1",
   "metadata": {},
   "outputs": [],
   "source": [
    "blue_win_percent_by_exp = pd.DataFrame(blue_win_percent_by_exp)\n",
    "blue_win_percent_by_exp = blue_win_percent_by_exp.rename(columns={0:'win rate calculate by exp'})\n",
    "blue_win_percent_by_exp = blue_win_percent_by_exp.rename(index=range_std_list)\n",
    "blue_win_percent_by_exp['lose rate calculate by exp'] = 100 - blue_win_percent_by_exp['win rate calculate by exp'] \n",
    "\n",
    "blue_win_percent_by_gold = pd.DataFrame(blue_win_percent_by_gold)\n",
    "blue_win_percent_by_gold = blue_win_percent_by_gold.rename(columns={0:'win rate calculate by gold'})\n",
    "blue_win_percent_by_gold = blue_win_percent_by_gold.rename(index=range_std_list)\n",
    "blue_win_percent_by_gold['lose rate calculate by gold'] = 100 - blue_win_percent_by_gold['win rate calculate by gold'] \n",
    "\n",
    "red_win_percent_by_exp = pd.DataFrame(red_win_percent_by_exp)\n",
    "red_win_percent_by_exp = red_win_percent_by_exp.rename(columns={0:'win rate calculate by exp'})\n",
    "red_win_percent_by_exp = red_win_percent_by_exp.rename(index=range_std_list)\n",
    "red_win_percent_by_exp['lose rate calculate by exp'] = 100 - red_win_percent_by_exp['win rate calculate by exp'] \n",
    "\n",
    "red_win_percent_by_gold = pd.DataFrame(red_win_percent_by_gold)\n",
    "red_win_percent_by_gold = red_win_percent_by_gold.rename(columns={0:'win rate calculate by gold'})\n",
    "red_win_percent_by_gold = red_win_percent_by_gold.rename(index=range_std_list)\n",
    "red_win_percent_by_gold['lose rate calculate by gold'] = 100 - red_win_percent_by_gold['win rate calculate by gold'] "
   ]
  },
  {
   "cell_type": "code",
   "execution_count": null,
   "id": "43b54f00-87d2-48ba-8020-af9815226d0c",
   "metadata": {},
   "outputs": [],
   "source": [
    "blue_win_percent_by_exp"
   ]
  },
  {
   "cell_type": "code",
   "execution_count": null,
   "id": "11431ec5-31f2-49dc-a59b-a535246c4d3b",
   "metadata": {},
   "outputs": [],
   "source": [
    "blue_win_percent_by_gold"
   ]
  },
  {
   "cell_type": "code",
   "execution_count": null,
   "id": "59c11323-11d5-4dc1-a51f-54dee042d1bf",
   "metadata": {},
   "outputs": [],
   "source": [
    "red_win_percent_by_exp"
   ]
  },
  {
   "cell_type": "code",
   "execution_count": null,
   "id": "80cccc7c-fecc-4c47-92c7-1491591f04d5",
   "metadata": {},
   "outputs": [],
   "source": [
    "red_win_percent_by_gold"
   ]
  },
  {
   "cell_type": "code",
   "execution_count": null,
   "id": "b5de14cb-c340-4ddc-b90f-c8c5f26d05bb",
   "metadata": {},
   "outputs": [],
   "source": [
    "blue_win_percent_by_exp.plot(kind='barh',stacked=True)\n",
    "plt.axvline(50,color='red')\n",
    "plt.ylabel('std range')\n",
    "plt.xlabel('percent')\n",
    "plt.title('blue win rate calculate by exp std')\n",
    "blue_win_percent_by_gold.plot(kind='barh',stacked=True)\n",
    "plt.axvline(50,color='red')\n",
    "plt.ylabel('std range')\n",
    "plt.xlabel('percent')\n",
    "plt.title('blue win rate calculate by gold std')\n",
    "plt.show()"
   ]
  },
  {
   "cell_type": "code",
   "execution_count": null,
   "id": "72dd7502-b8ef-4c40-be5d-a26182a8be5e",
   "metadata": {},
   "outputs": [],
   "source": [
    "red_win_percent_by_exp.plot(kind='barh',stacked=True)\n",
    "plt.axvline(50,color='red')\n",
    "plt.ylabel('std range')\n",
    "plt.xlabel('percent')\n",
    "plt.title('red win rate calculate by exp std')\n",
    "red_win_percent_by_gold.plot(kind='barh',stacked=True)\n",
    "plt.axvline(50,color='red')\n",
    "plt.ylabel('std range')\n",
    "plt.xlabel('percent')\n",
    "plt.title('red win rate calculate by gold std')\n",
    "plt.show()"
   ]
  },
  {
   "cell_type": "markdown",
   "id": "a8fc5d5e-4995-40da-8c1c-74d546bddab9",
   "metadata": {},
   "source": [
    "**Nhận xét**: So sánh với những đội chọn ăn rồng, thì có vẻ như tỉ lệ thắng có vẻ thấp hơn một vài %, điều này có thể chấp nhận được, nhưng chúng ta hãy để ý đến lượng gold, có vẻ nếu mà 1 đội thua quá xa về lượng gold thì việc ăn sứ giả không có bất cứ tác dụng nào cả khi so sánh với những đội chọn ăn rồng"
   ]
  },
  {
   "cell_type": "markdown",
   "id": "79d83659-e7cc-421b-8232-1ca7db6fc0f9",
   "metadata": {},
   "source": [
    "**Kết luận rút ra sau 2 câu hỏi**: Gold và exp là 2 yếu tố quan trọng để thắng trận đấu, nhưng nếu bạn không thể nào có đủ lượng gold và exp như đối thủ, thì hãy cố gắng đừng để khoảng cách đó quá xa khỏi 1 độ lệch chuẩn, tuy nhiên, nếu không thể giữ được khoảng cách đó, thì team của bạn cần tập trung nhiều vào những mục tiêu lớn cụ thể là rồng, đặc biệt nếu team bạn đang thua về gold, thì bắt buột mục tiêu lớn phải là rồng, vì sứ giả sẽ không thể bù đắp được cho bạn nếu lượng vàng thua quá lớn"
   ]
  }
 ],
 "metadata": {
  "kernelspec": {
   "display_name": "Python 3 (ipykernel)",
   "language": "python",
   "name": "python3"
  },
  "language_info": {
   "codemirror_mode": {
    "name": "ipython",
    "version": 3
   },
   "file_extension": ".py",
   "mimetype": "text/x-python",
   "name": "python",
   "nbconvert_exporter": "python",
   "pygments_lexer": "ipython3",
   "version": "3.8.8"
  }
 },
 "nbformat": 4,
 "nbformat_minor": 5
}
