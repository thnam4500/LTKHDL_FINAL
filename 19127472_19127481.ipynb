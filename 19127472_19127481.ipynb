{
 "cells": [
  {
   "cell_type": "markdown",
   "id": "9092bd26-534d-4120-a98e-3d47e9f05507",
   "metadata": {},
   "source": [
    "# ĐỒ ÁN CUỐI KỲ LẬP TRÌNH CHO KHOA HỌC DỮ LIỆU\n",
    "## THÀNH VIÊN\n",
    "|MÃ SỐ|HỌ TÊN|\n",
    "|:----:|:---:|\n",
    "|19127472|NGUYỄN BÁ MINH|\n",
    "|19127481|TRẦN HOÀNG NAM|"
   ]
  },
  {
   "cell_type": "code",
   "execution_count": null,
   "id": "c59ead62-24b2-4cd5-8818-2df202fef9c2",
   "metadata": {},
   "outputs": [],
   "source": [
    "import numpy as np\n",
    "import pandas as pd\n",
    "import matplotlib.pyplot as plt\n",
    "import re"
   ]
  },
  {
   "cell_type": "markdown",
   "id": "a9e504cb-2bb0-4704-bca4-d0ab996aa56c",
   "metadata": {},
   "source": [
    "## GIỚI THIỆU ĐỒ ÁN\n",
    "**Đề tài đồ án**: Tìm hiểu và phân tích những yếu tố trong 10 phút đầu của 1 trận đấu liên minh huyền thoại có ảnh hưởng như thế nào đến kết quả trận đấu\n",
    "- Dữ liệu các trận đấu được lấy ở [link này](https://www.kaggle.com/bobbyscience/league-of-legends-diamond-ranked-games-10-min)\n",
    "- Dữ liệu gồm 1 file duy nhất là data.csv\n",
    "- Dữ liệu chứa thông tin của khoảng 10.000 trận đấu ở rank kim cương - cao thủ trong khoảng 10 phút đầu game\n",
    "- Dữ liệu 1 dòng là thông tin của đội xanh và đội đỏ, mỗi đội sẽ có 19 cột chứa thông tin, tổng có 38 cột và 1 cột bluewin là cột kết quả trận đấu, 1 cột id là id của trận đấu, id này có thể dùng để lấy thêm thông tin từ API của riot game, vậy có tất cả 40 cột\n",
    "\n",
    "### Đọc dữ liệu từ file data.csv và khám phá dữ liệu"
   ]
  },
  {
   "cell_type": "code",
   "execution_count": null,
   "id": "a3fd08f5-0049-4566-8dab-5e6901ce51b4",
   "metadata": {},
   "outputs": [],
   "source": [
    "data_df = pd.read_csv('data.csv')\n",
    "data_df.head()"
   ]
  },
  {
   "cell_type": "code",
   "execution_count": null,
   "id": "8053b9b1-1382-4fa9-86a6-87f1deee1a93",
   "metadata": {},
   "outputs": [],
   "source": [
    "data_df.info()"
   ]
  },
  {
   "cell_type": "code",
   "execution_count": null,
   "id": "2e5d9b9e-9ce4-4939-a003-baf17f890306",
   "metadata": {},
   "outputs": [],
   "source": [
    "data_df.shape"
   ]
  },
  {
   "cell_type": "markdown",
   "id": "02c5a39d-4d84-4f96-8fce-93e0ac99b5fe",
   "metadata": {},
   "source": [
    "#### Dữ liệu có bao nhiêu dòng, cột, có cột nào có dữ liệu thiếu không, có vấn đề gì với các cột không\n",
    "- Ta thấy rằng có chính xác 40 cột và 9.879 dòng, tức là khoảng 10.000 dòng như mô tả.\n",
    "- Xem xét sơ các cột, ta thấy rằng không có dữ liệu thiếu, không có vấn đề gì cả."
   ]
  },
  {
   "cell_type": "markdown",
   "id": "63a9a6e3-2f4e-4dce-ad2c-e93b85f2c111",
   "metadata": {},
   "source": [
    "#### Dữ liệu có bị lặp hay không"
   ]
  },
  {
   "cell_type": "code",
   "execution_count": null,
   "id": "66bc01b1-9f56-4a02-b783-001c7dd5790e",
   "metadata": {},
   "outputs": [],
   "source": [
    "np.any(data_df.duplicated())"
   ]
  },
  {
   "cell_type": "markdown",
   "id": "bdf515c2-c6cf-47fa-ac33-f68e369ef53a",
   "metadata": {},
   "source": [
    "### TÌM HIỂU VÀ PHÂN TÍCH"
   ]
  },
  {
   "cell_type": "markdown",
   "id": "0f06019c-cf35-47fa-9d25-60556b35e48d",
   "metadata": {},
   "source": [
    "#### NGUYỄN BÁ MINH"
   ]
  },
  {
   "cell_type": "code",
   "execution_count": null,
   "id": "9d14ff66-131a-4821-979c-136a574e47ae",
   "metadata": {},
   "outputs": [],
   "source": []
  },
  {
   "cell_type": "markdown",
   "id": "b2a32611-a9a1-408a-bd28-73749dc3724a",
   "metadata": {},
   "source": [
    "#### TRẦN HOÀNG NAM"
   ]
  },
  {
   "cell_type": "code",
   "execution_count": null,
   "id": "371b249a-a77a-4e2c-8dc8-4b9f443a2653",
   "metadata": {},
   "outputs": [],
   "source": []
  }
 ],
 "metadata": {
  "kernelspec": {
   "display_name": "Python 3 (ipykernel)",
   "language": "python",
   "name": "python3"
  },
  "language_info": {
   "codemirror_mode": {
    "name": "ipython",
    "version": 3
   },
   "file_extension": ".py",
   "mimetype": "text/x-python",
   "name": "python",
   "nbconvert_exporter": "python",
   "pygments_lexer": "ipython3",
   "version": "3.8.8"
  }
 },
 "nbformat": 4,
 "nbformat_minor": 5
}
